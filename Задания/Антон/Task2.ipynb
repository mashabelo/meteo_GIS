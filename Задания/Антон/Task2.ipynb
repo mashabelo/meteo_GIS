{
 "cells": [
  {
   "cell_type": "code",
   "execution_count": 39,
   "metadata": {},
   "outputs": [
    {
     "name": "stdin",
     "output_type": "stream",
     "text": [
      " my name is anton!\n"
     ]
    }
   ],
   "source": [
    "import string\n",
    "n=str(input())"
   ]
  },
  {
   "cell_type": "code",
   "execution_count": 76,
   "metadata": {},
   "outputs": [
    {
     "name": "stdout",
     "output_type": "stream",
     "text": [
      "abcdefghijklmnopqrstuvwxyz\n"
     ]
    }
   ],
   "source": [
    "a=string.ascii_lowercase\n",
    "b=''\n",
    "d=[]\n",
    "print(a)"
   ]
  },
  {
   "cell_type": "code",
   "execution_count": 77,
   "metadata": {},
   "outputs": [
    {
     "name": "stdout",
     "output_type": "stream",
     "text": [
      "1325 141135 919 114201514!\n",
      "['2', '2', ' ', '2', '1', '2', '1', ' ', '1', '2', ' ', '1', '2', '2', '2', '2', '!']\n"
     ]
    }
   ],
   "source": [
    "for k in n:\n",
    "    if k in a:\n",
    "        c=(str(ord(k)-96))\n",
    "        b=b+c\n",
    "        d.append(str(len(c)))\n",
    "    else:\n",
    "        b=b+k\n",
    "        d.append(k)\n",
    "print(b)\n",
    "print(d)"
   ]
  },
  {
   "cell_type": "code",
   "execution_count": 80,
   "metadata": {},
   "outputs": [
    {
     "name": "stdout",
     "output_type": "stream",
     "text": [
      " my name is anton!\n"
     ]
    }
   ],
   "source": [
    "q=0\n",
    "e=' '\n",
    "def mes(e):\n",
    "    print(e)\n",
    "for f in d:\n",
    "    if f!='1' and f!='2':\n",
    "        e=e+f\n",
    "        q=q+1\n",
    "    else:   \n",
    "        f=int(f)\n",
    "        e=e+(chr(int(b[q:q+f])+96))\n",
    "        q=q+f\n",
    "print(e)"
   ]
  }
 ],
 "metadata": {
  "kernelspec": {
   "display_name": "Python 3",
   "language": "python",
   "name": "python3"
  },
  "language_info": {
   "codemirror_mode": {
    "name": "ipython",
    "version": 3
   },
   "file_extension": ".py",
   "mimetype": "text/x-python",
   "name": "python",
   "nbconvert_exporter": "python",
   "pygments_lexer": "ipython3",
   "version": "3.7.3"
  }
 },
 "nbformat": 4,
 "nbformat_minor": 4
}
