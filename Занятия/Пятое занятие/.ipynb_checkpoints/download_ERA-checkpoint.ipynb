{
 "cells": [
  {
   "cell_type": "code",
   "execution_count": null,
   "metadata": {},
   "outputs": [],
   "source": [
    "#!/usr/bin/env python\n",
    "from ecmwfapi import ECMWFDataServer\n",
    "    \n",
    "server = ECMWFDataServer()\n",
    "    \n",
    "server.retrieve({\n",
    "    'stream'    : \"oper\", \n",
    "    'levtype'   : \"sfc\",\n",
    "    'param'     : \"167.128/228.128\",\n",
    "    'dataset'   : \"interim\",\n",
    "    'grid'      : \"0.125/0.125\", # кратность сетки в долях градуса\n",
    "    'step'      : \"3\", # шаг моделируемых данных   \n",
    "    'time'      : \"00/12\", # срок наблюдения\n",
    "    'date'      : \"1979-01-01/to/1979-01-01\", # период наблюдений\n",
    "    'type'      : \"fc\", # fc - forecast, an - analysis. Некоторые данные являются только прогнозными величинами\n",
    "    #если step != 0, то тип - fc\n",
    "    'class'     : \"ei\",\n",
    "    'area'      : \"61/27/58/32\", # N/W/S/E область данных\n",
    "    'format'    : \"netcdf\", # формат данных. По умолчанию - GRIB\n",
    "    'target'    : \"interim_STEP_3.nc\" # файл сохранится там же, где расположен выполняемый скрипт\n",
    " })\n",
    "\n",
    "\n",
    "# server.retrieve({\n",
    "#     'stream'    : \"oper\", \n",
    "#     'levtype'   : \"sfc\",\n",
    "#     'param'     : \"167.128\",\n",
    "#     'dataset'   : \"interim\",\n",
    "#     'step'      : \"0\", # шаг моделируемых данных\n",
    "#     'grid'      : \"0.125/0.125\", # кратность сетки в долях градуса\n",
    "#     'time'      : \"00/06/12/18\", # срок наблюдения\n",
    "#     'date'      : \"1979-01-01/to/1979-01-01\",\n",
    "#     'type'      : \"an\", # fc - forecast, an - analysis. Некоторые данные являются только прогнозными величинами\n",
    "#     #если step != 0, то тип - fc\n",
    "#     'class'     : \"ei\",\n",
    "#     'area'      : \"61/27/58/32\", # \"61/28/31/59\" N/W/S/E область данных\n",
    "#     'format'    : \"netcdf\", # формат данных. По умолчанию - GRIB\n",
    "#     'target'    : \"interim_STEP_12.nc\" # файл сохранится там же, где расположен исполняемый скрипт\n",
    "#  })"
   ]
  },
  {
   "cell_type": "code",
   "execution_count": null,
   "metadata": {},
   "outputs": [],
   "source": []
  }
 ],
 "metadata": {
  "kernelspec": {
   "display_name": "Python 3",
   "language": "python",
   "name": "python3"
  },
  "language_info": {
   "codemirror_mode": {
    "name": "ipython",
    "version": 3
   },
   "file_extension": ".py",
   "mimetype": "text/x-python",
   "name": "python",
   "nbconvert_exporter": "python",
   "pygments_lexer": "ipython3",
   "version": "3.7.3"
  }
 },
 "nbformat": 4,
 "nbformat_minor": 4
}
