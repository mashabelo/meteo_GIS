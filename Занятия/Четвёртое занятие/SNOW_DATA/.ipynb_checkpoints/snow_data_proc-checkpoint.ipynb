{
 "cells": [
  {
   "cell_type": "code",
   "execution_count": 1,
   "metadata": {},
   "outputs": [],
   "source": [
    "import os\n",
    "import glob\n",
    "import pandas as pd\n",
    "import numpy as np\n",
    "\n",
    "my_path_SNOW = (r'D:\\education\\SPBU\\river\\SNOW_DATA\\SNOW')                   # use your path\n",
    "\n",
    "my_path_SMOW_W = (r'D:\\education\\SPBU\\river\\SNOW_DATA\\SNOW_WALK')\n",
    "\n",
    "my_path_SOIL_T = (r'D:\\education\\SPBU\\river\\SNOW_DATA\\SOIL_T')\n",
    "\n",
    "all_files_SNOW = glob.glob(os.path.join(my_path_SNOW, \"*.txt\"))\n",
    "\n",
    "all_files_SNOW_W = glob.glob(os.path.join(my_path_SMOW_W, \"*.txt\"))\n",
    "\n",
    "all_files_SOIL_T = glob.glob(os.path.join(my_path_SOIL_T, \"*.txt\"))\n",
    "\n",
    "files = [all_files_SNOW, all_files_SNOW_W, all_files_SOIL_T]"
   ]
  },
  {
   "cell_type": "markdown",
   "metadata": {},
   "source": [
    "### SNOW PROCESSING\n"
   ]
  },
  {
   "cell_type": "code",
   "execution_count": 2,
   "metadata": {},
   "outputs": [],
   "source": [
    "SNOW = [pd.read_csv(f, header=None, delimiter=';', names = ['station', 'Y', 'M','d','SS4']) for f in all_files_SNOW]\n",
    "SNOW_file_names = [f[-9:-4] for f in all_files_SNOW]\n",
    "my_path_SNOW_RESULTS = (r'D:\\education\\SPBU\\river\\SNOW_DATA\\SNOW\\RESULTS_SNOW')"
   ]
  },
  {
   "cell_type": "code",
   "execution_count": null,
   "metadata": {},
   "outputs": [],
   "source": [
    "for i in range(len(SNOW)):\n",
    "    SNOW[i].insert(loc = 0, column = 'date', value = pd.to_datetime(SNOW[i][['Y','M','d']].astype(str).agg('-'.join, axis=1), errors = 'coerce'))\n",
    "    SNOW[i]['date'] = SNOW[i]['date'].dt.strftime('%d.%m.%Y')\n",
    "    SNOW[i] = SNOW[i].drop(['station','Y','M','d'], axis = 1)\n",
    "    SNOW[i].SS4 = SNOW[i].SS4 / 100\n",
    "    SNOW[i].SS4 = SNOW[i].SS4.replace(99.99, -999)\n",
    "    SNOW[i].to_csv(my_path_SNOW_RESULTS + '\\{}.txt'.format(SNOW_file_names[i]), sep=\"\\t\", index = False)\n"
   ]
  },
  {
   "cell_type": "markdown",
   "metadata": {},
   "source": [
    "### SOIL TEMPERATURE"
   ]
  },
  {
   "cell_type": "code",
   "execution_count": 5,
   "metadata": {},
   "outputs": [
    {
     "name": "stderr",
     "output_type": "stream",
     "text": [
      "C:\\Users\\dmbrm\\Miniconda3\\envs\\geo\\lib\\site-packages\\ipykernel_launcher.py:1: ParserWarning: Falling back to the 'python' engine because the 'c' engine does not support regex separators (separators > 1 char and different from '\\s+' are interpreted as regex); you can avoid this warning by specifying engine='python'.\n",
      "  \"\"\"Entry point for launching an IPython kernel.\n"
     ]
    }
   ],
   "source": [
    "SOIL = [pd.read_csv(f, header=None, delimiter='\\s*;', names = ['station', 'Y', 'M','d','T0.00','T0.05','T0.10','T1.20','T1.60','T2.40','T3.20']) for f in all_files_SOIL_T]\n",
    "SOIL_file_names = [f[-9:-4] for f in all_files_SOIL_T]\n",
    "my_path_SOIL_RESULTS = (r'D:\\education\\SPBU\\river\\SNOW_DATA\\SOIL_T\\RESULTS_SOIL_T')"
   ]
  },
  {
   "cell_type": "code",
   "execution_count": 6,
   "metadata": {},
   "outputs": [],
   "source": [
    "for i in range(len(SOIL)):\n",
    "    SOIL[i].insert(loc = 0, column = 'date', value = pd.to_datetime(SOIL[i][['Y','M','d']].astype(str).agg('-'.join, axis=1), errors = 'coerce'))\n",
    "    SOIL[i]['date'] = SOIL[i]['date'].dt.strftime('%d.%m.%Y')\n",
    "    SOIL[i] = SOIL[i].drop(['station','Y','M','d'], axis = 1)\n",
    "    SOIL[i] = SOIL[i].replace(999.9, -999)\n",
    "    SOIL[i].to_csv(my_path_SOIL_RESULTS + '\\{}.txt'.format(SOIL_file_names[i]), sep=\"\\t\", index = False)"
   ]
  },
  {
   "cell_type": "markdown",
   "metadata": {},
   "source": [
    "### SNOW WALKERS"
   ]
  },
  {
   "cell_type": "code",
   "execution_count": 36,
   "metadata": {},
   "outputs": [
    {
     "name": "stderr",
     "output_type": "stream",
     "text": [
      "C:\\Users\\dmbrm\\Miniconda3\\envs\\geo\\lib\\site-packages\\ipykernel_launcher.py:1: ParserWarning: Falling back to the 'python' engine because the 'c' engine does not support regex separators (separators > 1 char and different from '\\s+' are interpreted as regex); you can avoid this warning by specifying engine='python'.\n",
      "  \"\"\"Entry point for launching an IPython kernel.\n"
     ]
    }
   ],
   "source": [
    "SNOW_W = [pd.read_csv(f, header=None, delimiter='\\s*;', names = ['station', 'Y', 'M','type', 'd','SS4', 'S2', 'S1']) for f in all_files_SNOW_W]\n",
    "SNOW_W_file_names = [f[-9:-4] for f in all_files_SNOW_W]\n",
    "my_path_SNOW_WALK_FIELD = (r'D:\\education\\SPBU\\river\\SNOW_DATA\\SNOW_WALK\\RESULTS_SNOW_WALK\\FIELD') #1\n",
    "my_path_SNOW_WALK_WOOD = (r'D:\\education\\SPBU\\river\\SNOW_DATA\\SNOW_WALK\\RESULTS_SNOW_WALK\\WOOD') #2\n",
    "my_path_SNOW_WALK_VALLEY = (r'D:\\education\\SPBU\\river\\SNOW_DATA\\SNOW_WALK\\RESULTS_SNOW_WALK\\VALLEY') #3\n"
   ]
  },
  {
   "cell_type": "code",
   "execution_count": 37,
   "metadata": {},
   "outputs": [],
   "source": [
    "FIELD = []\n",
    "VALLEY = []\n",
    "WOOD = []\n",
    "for i in range(len(SNOW_W)):\n",
    "    FIELD = []\n",
    "    VALLEY = []\n",
    "    WOOD = []\n",
    "    SNOW_W[i].insert(loc = 0, column = 'date', value = pd.to_datetime(SNOW_W[i][['Y','M','d']].astype(str).agg('-'.join, axis=1), errors = 'coerce'))\n",
    "    SNOW_W[i]['date'] = SNOW_W[i]['date'].dt.strftime('%d.%m.%Y')\n",
    "    SNOW_W[i] = SNOW_W[i].drop(['station','Y','M','d'], axis = 1)\n",
    "    SNOW_W[i].SS4 = SNOW_W[i].SS4 / 100\n",
    "    SNOW_W[i].S2 = SNOW_W[i].S2 * 1000\n",
    "    SNOW_W[i] = SNOW_W[i].replace(np.NaN, -999)\n",
    "    \n",
    "    FIELD = SNOW_W[i][SNOW_W[i].type == 1]\n",
    "    FIELD = FIELD.drop(['type'], axis = 1)\n",
    "    FIELD.to_csv(my_path_SNOW_WALK_FIELD + '\\{}.txt'.format(SNOW_W_file_names[i]), sep=\"\\t\", index = False)\n",
    "    \n",
    "    WOOD = SNOW_W[i][SNOW_W[i].type == 2]\n",
    "    WOOD = WOOD.drop(['type'], axis = 1)\n",
    "    WOOD.to_csv(my_path_SNOW_WALK_WOOD + '\\{}.txt'.format(SNOW_W_file_names[i]), sep=\"\\t\", index = False)\n",
    "    \n",
    "    VALLEY = SNOW_W[i][SNOW_W[i].type == 3]\n",
    "    VALLEY = VALLEY.drop(['type'], axis = 1)\n",
    "    VALLEY.to_csv(my_path_SNOW_WALK_VALLEY + '\\{}.txt'.format(SNOW_W_file_names[i]), sep=\"\\t\", index = False)\n",
    "\n",
    "    \n",
    "    "
   ]
  }
 ],
 "metadata": {
  "kernelspec": {
   "display_name": "Python 3",
   "language": "python",
   "name": "python3"
  },
  "language_info": {
   "codemirror_mode": {
    "name": "ipython",
    "version": 3
   },
   "file_extension": ".py",
   "mimetype": "text/x-python",
   "name": "python",
   "nbconvert_exporter": "python",
   "pygments_lexer": "ipython3",
   "version": "3.6.7"
  }
 },
 "nbformat": 4,
 "nbformat_minor": 4
}
