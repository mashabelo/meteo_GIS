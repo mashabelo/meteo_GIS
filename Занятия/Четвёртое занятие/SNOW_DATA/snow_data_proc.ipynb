{
 "cells": [
  {
   "cell_type": "code",
   "execution_count": 2,
   "metadata": {},
   "outputs": [],
   "source": [
    "import os\n",
    "import glob\n",
    "import pandas as pd\n",
    "import numpy as np\n",
    "\n",
    "my_path_SNOW = (r'D:\\education\\SPBU\\river\\SNOW_DATA\\SNOW')                   # use your path\n",
    "\n",
    "my_path_SMOW_W = (r'D:\\education\\SPBU\\river\\SNOW_DATA\\SNOW_WALK')\n",
    "\n",
    "my_path_SOIL_T = (r'D:\\education\\SPBU\\river\\SNOW_DATA\\SOIL_T')\n",
    "\n",
    "all_files_SNOW = glob.glob(os.path.join(my_path_SNOW, \"*.txt\"))\n",
    "\n",
    "all_files_SNOW_W = glob.glob(os.path.join(my_path_SMOW_W, \"*.txt\"))\n",
    "\n",
    "all_files_SOIL_T = glob.glob(os.path.join(my_path_SOIL_T, \"*.txt\"))\n",
    "\n",
    "files = [all_files_SNOW, all_files_SNOW_W, all_files_SOIL_T]"
   ]
  },
  {
   "cell_type": "markdown",
   "metadata": {},
   "source": [
    "### SNOW PROCESSING\n"
   ]
  },
  {
   "cell_type": "code",
   "execution_count": 25,
   "metadata": {},
   "outputs": [
    {
     "data": {
      "text/plain": [
       "'D:\\\\education\\\\SPBU\\\\river\\\\SNOW_DATA\\\\SNOW\\\\21432.txt'"
      ]
     },
     "execution_count": 25,
     "metadata": {},
     "output_type": "execute_result"
    }
   ],
   "source": [
    "all_files_SNOW[0]"
   ]
  },
  {
   "cell_type": "code",
   "execution_count": 26,
   "metadata": {},
   "outputs": [],
   "source": [
    "SNOW = [pd.read_csv(f, header=None, delimiter=';', names = ['station', 'Y', 'M','d','SS4']) for f in all_files_SNOW]\n",
    "SNOW_file_names = [f[-9:-4] for f in all_files_SNOW]\n",
    "my_path_SNOW_RESULTS = (r'D:\\education\\SPBU\\river\\SNOW_DATA\\SNOW\\RESULTS_SNOW')"
   ]
  },
  {
   "cell_type": "code",
   "execution_count": 39,
   "metadata": {},
   "outputs": [
    {
     "data": {
      "text/html": [
       "<div>\n",
       "<style scoped>\n",
       "    .dataframe tbody tr th:only-of-type {\n",
       "        vertical-align: middle;\n",
       "    }\n",
       "\n",
       "    .dataframe tbody tr th {\n",
       "        vertical-align: top;\n",
       "    }\n",
       "\n",
       "    .dataframe thead th {\n",
       "        text-align: right;\n",
       "    }\n",
       "</style>\n",
       "<table border=\"1\" class=\"dataframe\">\n",
       "  <thead>\n",
       "    <tr style=\"text-align: right;\">\n",
       "      <th></th>\n",
       "      <th>station</th>\n",
       "      <th>Y</th>\n",
       "      <th>M</th>\n",
       "      <th>d</th>\n",
       "      <th>SS4</th>\n",
       "    </tr>\n",
       "  </thead>\n",
       "  <tbody>\n",
       "    <tr>\n",
       "      <th>0</th>\n",
       "      <td>21432</td>\n",
       "      <td>1936</td>\n",
       "      <td>1</td>\n",
       "      <td>1</td>\n",
       "      <td>9999</td>\n",
       "    </tr>\n",
       "    <tr>\n",
       "      <th>1</th>\n",
       "      <td>21432</td>\n",
       "      <td>1936</td>\n",
       "      <td>1</td>\n",
       "      <td>2</td>\n",
       "      <td>9999</td>\n",
       "    </tr>\n",
       "    <tr>\n",
       "      <th>2</th>\n",
       "      <td>21432</td>\n",
       "      <td>1936</td>\n",
       "      <td>1</td>\n",
       "      <td>3</td>\n",
       "      <td>9999</td>\n",
       "    </tr>\n",
       "    <tr>\n",
       "      <th>3</th>\n",
       "      <td>21432</td>\n",
       "      <td>1936</td>\n",
       "      <td>1</td>\n",
       "      <td>4</td>\n",
       "      <td>9999</td>\n",
       "    </tr>\n",
       "    <tr>\n",
       "      <th>4</th>\n",
       "      <td>21432</td>\n",
       "      <td>1936</td>\n",
       "      <td>1</td>\n",
       "      <td>5</td>\n",
       "      <td>9999</td>\n",
       "    </tr>\n",
       "  </tbody>\n",
       "</table>\n",
       "</div>"
      ],
      "text/plain": [
       "   station     Y  M  d   SS4\n",
       "0    21432  1936  1  1  9999\n",
       "1    21432  1936  1  2  9999\n",
       "2    21432  1936  1  3  9999\n",
       "3    21432  1936  1  4  9999\n",
       "4    21432  1936  1  5  9999"
      ]
     },
     "execution_count": 39,
     "metadata": {},
     "output_type": "execute_result"
    }
   ],
   "source": [
    "SNOW[0].head(5)"
   ]
  },
  {
   "cell_type": "code",
   "execution_count": null,
   "metadata": {},
   "outputs": [],
   "source": [
    "for i in range(len(SNOW)):\n",
    "    SNOW[i].insert(loc = 0, column = 'date', value = pd.to_datetime(SNOW[i][['Y','M','d']].astype(str).agg('-'.join, axis=1), errors = 'coerce'))\n",
    "    SNOW[i]['date'] = SNOW[i]['date'].dt.strftime('%d.%m.%Y')\n",
    "    SNOW[i] = SNOW[i].drop(['station','Y','M','d'], axis = 1)\n",
    "    SNOW[i].SS4 = SNOW[i].SS4 / 100\n",
    "    SNOW[i].SS4 = SNOW[i].SS4.replace(99.99, -999)\n",
    "    SNOW[i].to_csv(my_path_SNOW_RESULTS + '\\{}.txt'.format(SNOW_file_names[i]), sep=\"\\t\", index = False)\n"
   ]
  },
  {
   "cell_type": "markdown",
   "metadata": {},
   "source": [
    "### SOIL TEMPERATURE"
   ]
  },
  {
   "cell_type": "code",
   "execution_count": 5,
   "metadata": {},
   "outputs": [
    {
     "name": "stderr",
     "output_type": "stream",
     "text": [
      "C:\\Users\\dmbrm\\Miniconda3\\envs\\geo\\lib\\site-packages\\ipykernel_launcher.py:1: ParserWarning: Falling back to the 'python' engine because the 'c' engine does not support regex separators (separators > 1 char and different from '\\s+' are interpreted as regex); you can avoid this warning by specifying engine='python'.\n",
      "  \"\"\"Entry point for launching an IPython kernel.\n"
     ]
    }
   ],
   "source": [
    "SOIL = [pd.read_csv(f, header=None, delimiter='\\s*;', names = ['station', 'Y', 'M','d','T0.00','T0.05','T0.10','T1.20','T1.60','T2.40','T3.20']) for f in all_files_SOIL_T]\n",
    "SOIL_file_names = [f[-9:-4] for f in all_files_SOIL_T]\n",
    "my_path_SOIL_RESULTS = (r'D:\\education\\SPBU\\river\\SNOW_DATA\\SOIL_T\\RESULTS_SOIL_T')"
   ]
  },
  {
   "cell_type": "code",
   "execution_count": 6,
   "metadata": {},
   "outputs": [],
   "source": [
    "for i in range(len(SOIL)):\n",
    "    SOIL[i].insert(loc = 0, column = 'date', value = pd.to_datetime(SOIL[i][['Y','M','d']].astype(str).agg('-'.join, axis=1), errors = 'coerce'))\n",
    "    SOIL[i]['date'] = SOIL[i]['date'].dt.strftime('%d.%m.%Y')\n",
    "    SOIL[i] = SOIL[i].drop(['station','Y','M','d'], axis = 1)\n",
    "    SOIL[i] = SOIL[i].replace(999.9, -999)\n",
    "    SOIL[i].to_csv(my_path_SOIL_RESULTS + '\\{}.txt'.format(SOIL_file_names[i]), sep=\"\\t\", index = False)"
   ]
  },
  {
   "cell_type": "markdown",
   "metadata": {},
   "source": [
    "### SNOW WALKERS"
   ]
  },
  {
   "cell_type": "code",
   "execution_count": 41,
   "metadata": {},
   "outputs": [
    {
     "name": "stderr",
     "output_type": "stream",
     "text": [
      "C:\\Users\\dmbrm\\Miniconda3\\envs\\geo\\lib\\site-packages\\ipykernel_launcher.py:1: ParserWarning: Falling back to the 'python' engine because the 'c' engine does not support regex separators (separators > 1 char and different from '\\s+' are interpreted as regex); you can avoid this warning by specifying engine='python'.\n",
      "  \"\"\"Entry point for launching an IPython kernel.\n"
     ]
    }
   ],
   "source": [
    "SNOW_W = [pd.read_csv(f, header=None, delimiter='\\s*;', names = ['station', 'Y', 'M','type', 'd','SS4', 'S2', 'S1']) for f in all_files_SNOW_W]\n",
    "SNOW_W_file_names = [f[-9:-4] for f in all_files_SNOW_W]\n",
    "my_path_SNOW_WALK_FIELD = (r'D:\\education\\SPBU\\river\\SNOW_DATA\\SNOW_WALK\\RESULTS_SNOW_WALK\\FIELD') #1\n",
    "my_path_SNOW_WALK_WOOD = (r'D:\\education\\SPBU\\river\\SNOW_DATA\\SNOW_WALK\\RESULTS_SNOW_WALK\\WOOD') #2\n",
    "my_path_SNOW_WALK_VALLEY = (r'D:\\education\\SPBU\\river\\SNOW_DATA\\SNOW_WALK\\RESULTS_SNOW_WALK\\VALLEY') #3\n"
   ]
  },
  {
   "cell_type": "code",
   "execution_count": 37,
   "metadata": {},
   "outputs": [],
   "source": [
    "FIELD = []\n",
    "VALLEY = []\n",
    "WOOD = []\n",
    "for i in range(len(SNOW_W)):\n",
    "    FIELD = []\n",
    "    VALLEY = []\n",
    "    WOOD = []\n",
    "    SNOW_W[i].insert(loc = 0, column = 'date', value = pd.to_datetime(SNOW_W[i][['Y','M','d']].astype(str).agg('-'.join, axis=1), errors = 'coerce'))\n",
    "    SNOW_W[i]['date'] = SNOW_W[i]['date'].dt.strftime('%d.%m.%Y')\n",
    "    SNOW_W[i] = SNOW_W[i].drop(['station','Y','M','d'], axis = 1)\n",
    "    SNOW_W[i].SS4 = SNOW_W[i].SS4 / 100\n",
    "    SNOW_W[i].S2 = SNOW_W[i].S2 * 1000\n",
    "    SNOW_W[i] = SNOW_W[i].replace(np.NaN, -999)\n",
    "    \n",
    "    FIELD = SNOW_W[i][SNOW_W[i].type == 1]\n",
    "    FIELD = FIELD.drop(['type'], axis = 1)\n",
    "    FIELD.to_csv(my_path_SNOW_WALK_FIELD + '\\{}.txt'.format(SNOW_W_file_names[i]), sep=\"\\t\", index = False)\n",
    "    \n",
    "    WOOD = SNOW_W[i][SNOW_W[i].type == 2]\n",
    "    WOOD = WOOD.drop(['type'], axis = 1)\n",
    "    WOOD.to_csv(my_path_SNOW_WALK_WOOD + '\\{}.txt'.format(SNOW_W_file_names[i]), sep=\"\\t\", index = False)\n",
    "    \n",
    "    VALLEY = SNOW_W[i][SNOW_W[i].type == 3]\n",
    "    VALLEY = VALLEY.drop(['type'], axis = 1)\n",
    "    VALLEY.to_csv(my_path_SNOW_WALK_VALLEY + '\\{}.txt'.format(SNOW_W_file_names[i]), sep=\"\\t\", index = False)\n",
    "\n",
    "    \n",
    "    "
   ]
  },
  {
   "cell_type": "code",
   "execution_count": 45,
   "metadata": {},
   "outputs": [
    {
     "data": {
      "text/html": [
       "<div>\n",
       "<style scoped>\n",
       "    .dataframe tbody tr th:only-of-type {\n",
       "        vertical-align: middle;\n",
       "    }\n",
       "\n",
       "    .dataframe tbody tr th {\n",
       "        vertical-align: top;\n",
       "    }\n",
       "\n",
       "    .dataframe thead th {\n",
       "        text-align: right;\n",
       "    }\n",
       "</style>\n",
       "<table border=\"1\" class=\"dataframe\">\n",
       "  <thead>\n",
       "    <tr style=\"text-align: right;\">\n",
       "      <th></th>\n",
       "      <th>station</th>\n",
       "      <th>Y</th>\n",
       "      <th>M</th>\n",
       "      <th>type</th>\n",
       "      <th>d</th>\n",
       "      <th>SS4</th>\n",
       "      <th>S2</th>\n",
       "      <th>S1</th>\n",
       "    </tr>\n",
       "  </thead>\n",
       "  <tbody>\n",
       "    <tr>\n",
       "      <th>712</th>\n",
       "      <td>21802</td>\n",
       "      <td>1997</td>\n",
       "      <td>1</td>\n",
       "      <td>3</td>\n",
       "      <td>31</td>\n",
       "      <td>30.0</td>\n",
       "      <td>0.17</td>\n",
       "      <td>51.0</td>\n",
       "    </tr>\n",
       "    <tr>\n",
       "      <th>714</th>\n",
       "      <td>21802</td>\n",
       "      <td>1997</td>\n",
       "      <td>2</td>\n",
       "      <td>3</td>\n",
       "      <td>20</td>\n",
       "      <td>30.0</td>\n",
       "      <td>0.17</td>\n",
       "      <td>51.0</td>\n",
       "    </tr>\n",
       "    <tr>\n",
       "      <th>715</th>\n",
       "      <td>21802</td>\n",
       "      <td>1997</td>\n",
       "      <td>2</td>\n",
       "      <td>3</td>\n",
       "      <td>28</td>\n",
       "      <td>30.0</td>\n",
       "      <td>0.18</td>\n",
       "      <td>54.0</td>\n",
       "    </tr>\n",
       "    <tr>\n",
       "      <th>717</th>\n",
       "      <td>21802</td>\n",
       "      <td>1997</td>\n",
       "      <td>3</td>\n",
       "      <td>3</td>\n",
       "      <td>20</td>\n",
       "      <td>31.0</td>\n",
       "      <td>0.19</td>\n",
       "      <td>59.0</td>\n",
       "    </tr>\n",
       "    <tr>\n",
       "      <th>718</th>\n",
       "      <td>21802</td>\n",
       "      <td>1997</td>\n",
       "      <td>3</td>\n",
       "      <td>3</td>\n",
       "      <td>31</td>\n",
       "      <td>33.0</td>\n",
       "      <td>0.19</td>\n",
       "      <td>63.0</td>\n",
       "    </tr>\n",
       "    <tr>\n",
       "      <th>...</th>\n",
       "      <td>...</td>\n",
       "      <td>...</td>\n",
       "      <td>...</td>\n",
       "      <td>...</td>\n",
       "      <td>...</td>\n",
       "      <td>...</td>\n",
       "      <td>...</td>\n",
       "      <td>...</td>\n",
       "    </tr>\n",
       "    <tr>\n",
       "      <th>910</th>\n",
       "      <td>21802</td>\n",
       "      <td>2006</td>\n",
       "      <td>5</td>\n",
       "      <td>3</td>\n",
       "      <td>10</td>\n",
       "      <td>49.0</td>\n",
       "      <td>0.26</td>\n",
       "      <td>127.0</td>\n",
       "    </tr>\n",
       "    <tr>\n",
       "      <th>911</th>\n",
       "      <td>21802</td>\n",
       "      <td>2006</td>\n",
       "      <td>5</td>\n",
       "      <td>3</td>\n",
       "      <td>15</td>\n",
       "      <td>48.0</td>\n",
       "      <td>0.27</td>\n",
       "      <td>130.0</td>\n",
       "    </tr>\n",
       "    <tr>\n",
       "      <th>912</th>\n",
       "      <td>21802</td>\n",
       "      <td>2006</td>\n",
       "      <td>5</td>\n",
       "      <td>3</td>\n",
       "      <td>20</td>\n",
       "      <td>45.0</td>\n",
       "      <td>0.28</td>\n",
       "      <td>126.0</td>\n",
       "    </tr>\n",
       "    <tr>\n",
       "      <th>913</th>\n",
       "      <td>21802</td>\n",
       "      <td>2006</td>\n",
       "      <td>5</td>\n",
       "      <td>3</td>\n",
       "      <td>25</td>\n",
       "      <td>39.0</td>\n",
       "      <td>0.28</td>\n",
       "      <td>109.0</td>\n",
       "    </tr>\n",
       "    <tr>\n",
       "      <th>914</th>\n",
       "      <td>21802</td>\n",
       "      <td>2006</td>\n",
       "      <td>5</td>\n",
       "      <td>3</td>\n",
       "      <td>31</td>\n",
       "      <td>33.0</td>\n",
       "      <td>0.29</td>\n",
       "      <td>96.0</td>\n",
       "    </tr>\n",
       "  </tbody>\n",
       "</table>\n",
       "<p>126 rows × 8 columns</p>\n",
       "</div>"
      ],
      "text/plain": [
       "     station     Y  M  type   d   SS4    S2     S1\n",
       "712    21802  1997  1     3  31  30.0  0.17   51.0\n",
       "714    21802  1997  2     3  20  30.0  0.17   51.0\n",
       "715    21802  1997  2     3  28  30.0  0.18   54.0\n",
       "717    21802  1997  3     3  20  31.0  0.19   59.0\n",
       "718    21802  1997  3     3  31  33.0  0.19   63.0\n",
       "..       ...   ... ..   ...  ..   ...   ...    ...\n",
       "910    21802  2006  5     3  10  49.0  0.26  127.0\n",
       "911    21802  2006  5     3  15  48.0  0.27  130.0\n",
       "912    21802  2006  5     3  20  45.0  0.28  126.0\n",
       "913    21802  2006  5     3  25  39.0  0.28  109.0\n",
       "914    21802  2006  5     3  31  33.0  0.29   96.0\n",
       "\n",
       "[126 rows x 8 columns]"
      ]
     },
     "execution_count": 45,
     "metadata": {},
     "output_type": "execute_result"
    }
   ],
   "source": [
    "SNOW_W[0][SNOW_W[0].type == 3]"
   ]
  },
  {
   "cell_type": "code",
   "execution_count": 44,
   "metadata": {},
   "outputs": [
    {
     "data": {
      "text/plain": [
       "[0       False\n",
       " 1       False\n",
       " 2       False\n",
       " 3       False\n",
       " 4       False\n",
       "         ...  \n",
       " 1129    False\n",
       " 1130    False\n",
       " 1131    False\n",
       " 1132    False\n",
       " 1133    False\n",
       " Name: type, Length: 1134, dtype: bool]"
      ]
     },
     "execution_count": 44,
     "metadata": {},
     "output_type": "execute_result"
    }
   ],
   "source": [
    "[SNOW_W[0].type == 3]"
   ]
  },
  {
   "cell_type": "code",
   "execution_count": null,
   "metadata": {},
   "outputs": [],
   "source": []
  }
 ],
 "metadata": {
  "kernelspec": {
   "display_name": "Python 3",
   "language": "python",
   "name": "python3"
  },
  "language_info": {
   "codemirror_mode": {
    "name": "ipython",
    "version": 3
   },
   "file_extension": ".py",
   "mimetype": "text/x-python",
   "name": "python",
   "nbconvert_exporter": "python",
   "pygments_lexer": "ipython3",
   "version": "3.6.7"
  }
 },
 "nbformat": 4,
 "nbformat_minor": 4
}
