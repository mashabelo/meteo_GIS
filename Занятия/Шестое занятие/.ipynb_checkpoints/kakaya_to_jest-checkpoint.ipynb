{
 "cells": [
  {
   "cell_type": "markdown",
   "metadata": {},
   "source": [
    "### Подключим все необходимые библиотеки"
   ]
  },
  {
   "cell_type": "code",
   "execution_count": 1,
   "metadata": {},
   "outputs": [],
   "source": [
    "import netCDF4 as nc4\n",
    "from netCDF4 import Dataset,num2date\n",
    "import numpy as np\n",
    "import pandas as pd"
   ]
  },
  {
   "cell_type": "markdown",
   "metadata": {},
   "source": [
    "### Прочитаем наш файл, который мы предварительно скачали"
   ]
  },
  {
   "cell_type": "code",
   "execution_count": 86,
   "metadata": {},
   "outputs": [],
   "source": [
    "my_nc_file = (r'D:\\education\\SPBU\\My_course\\interim_STEP_3.nc') # у вас он сохранится в каком-то другом месте\n",
    "fh = nc4.Dataset(my_nc_file, mode='r')"
   ]
  },
  {
   "cell_type": "markdown",
   "metadata": {},
   "source": [
    "### Рассмотрим формат записи размерностей: долготы и широты"
   ]
  },
  {
   "cell_type": "code",
   "execution_count": 40,
   "metadata": {},
   "outputs": [
    {
     "data": {
      "text/plain": [
       "(masked_array(data=[27.   , 27.125, 27.25 , 27.375, 27.5  , 27.625, 27.75 ,\n",
       "                    27.875, 28.   , 28.125, 28.25 , 28.375, 28.5  , 28.625,\n",
       "                    28.75 , 28.875, 29.   , 29.125, 29.25 , 29.375, 29.5  ,\n",
       "                    29.625, 29.75 , 29.875, 30.   , 30.125, 30.25 , 30.375,\n",
       "                    30.5  , 30.625, 30.75 , 30.875, 31.   , 31.125, 31.25 ,\n",
       "                    31.375, 31.5  , 31.625, 31.75 , 31.875, 32.   ],\n",
       "              mask=False,\n",
       "        fill_value=1e+20,\n",
       "             dtype=float32),\n",
       " masked_array(data=[61.   , 60.875, 60.75 , 60.625, 60.5  , 60.375, 60.25 ,\n",
       "                    60.125, 60.   , 59.875, 59.75 , 59.625, 59.5  , 59.375,\n",
       "                    59.25 , 59.125, 59.   , 58.875, 58.75 , 58.625, 58.5  ,\n",
       "                    58.375, 58.25 , 58.125, 58.   ],\n",
       "              mask=False,\n",
       "        fill_value=1e+20,\n",
       "             dtype=float32))"
      ]
     },
     "execution_count": 40,
     "metadata": {},
     "output_type": "execute_result"
    }
   ],
   "source": [
    "fh.variables['longitude'][:], fh.variables['latitude'][:]"
   ]
  },
  {
   "cell_type": "markdown",
   "metadata": {},
   "source": [
    "### С помощью функции argmin найдём индекс с минимальной разницей"
   ]
  },
  {
   "cell_type": "code",
   "execution_count": 41,
   "metadata": {},
   "outputs": [],
   "source": [
    "col = np.argmin(np.abs(fh.variables['longitude'][:] - 30.1)) # долгота нашей станции\n",
    "row = np.argmin(np.abs(fh.variables['latitude'][:] - 59.4000)) # широта нашей станции"
   ]
  },
  {
   "cell_type": "markdown",
   "metadata": {},
   "source": [
    "### Проверим, что вышло"
   ]
  },
  {
   "cell_type": "code",
   "execution_count": 42,
   "metadata": {},
   "outputs": [
    {
     "data": {
      "text/plain": [
       "masked_array(data=30.125,\n",
       "             mask=False,\n",
       "       fill_value=1e+20,\n",
       "            dtype=float32)"
      ]
     },
     "execution_count": 42,
     "metadata": {},
     "output_type": "execute_result"
    }
   ],
   "source": [
    "fh.variables['longitude'][col]"
   ]
  },
  {
   "cell_type": "markdown",
   "metadata": {},
   "source": [
    "### Для нашей станции прочитаем все параметры, которые нам нравятся"
   ]
  },
  {
   "cell_type": "code",
   "execution_count": 43,
   "metadata": {},
   "outputs": [],
   "source": [
    "varnames = ['t2m', 'tp']\n",
    "\n",
    "BELOGORKA_nc = np.ma.getdata([fh.variables[varname][:, row, col] for varname in varnames])"
   ]
  },
  {
   "cell_type": "markdown",
   "metadata": {},
   "source": [
    "### Это тоже самое"
   ]
  },
  {
   "cell_type": "code",
   "execution_count": 45,
   "metadata": {},
   "outputs": [],
   "source": [
    "t2m = fh.variables['t2m'][:, row, col]\n",
    "tp = fh.variables['tp'][:, row, col]\n",
    "t = fh.variables['time']\n",
    "dtime = nc4.num2date(t[:], t.units)\n",
    "\n",
    "fh.close()"
   ]
  },
  {
   "cell_type": "markdown",
   "metadata": {},
   "source": [
    "### Прочитаем данные, наблюденные на станции"
   ]
  },
  {
   "cell_type": "code",
   "execution_count": 46,
   "metadata": {},
   "outputs": [
    {
     "name": "stderr",
     "output_type": "stream",
     "text": [
      "C:\\Users\\dmbrm\\Miniconda3\\envs\\geo\\lib\\site-packages\\IPython\\core\\interactiveshell.py:3058: DtypeWarning: Columns (7) have mixed types. Specify dtype option on import or set low_memory=False.\n",
      "  interactivity=interactivity, compiler=compiler, result=result)\n"
     ]
    }
   ],
   "source": [
    "observations = pd.read_csv(r'D:\\education\\SPBU\\My_course\\1935499.csv')"
   ]
  },
  {
   "cell_type": "code",
   "execution_count": 47,
   "metadata": {},
   "outputs": [
    {
     "data": {
      "text/html": [
       "<div>\n",
       "<style scoped>\n",
       "    .dataframe tbody tr th:only-of-type {\n",
       "        vertical-align: middle;\n",
       "    }\n",
       "\n",
       "    .dataframe tbody tr th {\n",
       "        vertical-align: top;\n",
       "    }\n",
       "\n",
       "    .dataframe thead th {\n",
       "        text-align: right;\n",
       "    }\n",
       "</style>\n",
       "<table border=\"1\" class=\"dataframe\">\n",
       "  <thead>\n",
       "    <tr style=\"text-align: right;\">\n",
       "      <th></th>\n",
       "      <th>STATION</th>\n",
       "      <th>NAME</th>\n",
       "      <th>LATITUDE</th>\n",
       "      <th>LONGITUDE</th>\n",
       "      <th>ELEVATION</th>\n",
       "      <th>DATE</th>\n",
       "      <th>MDPR</th>\n",
       "      <th>MDPR_ATTRIBUTES</th>\n",
       "      <th>PRCP</th>\n",
       "      <th>PRCP_ATTRIBUTES</th>\n",
       "      <th>SNWD</th>\n",
       "      <th>SNWD_ATTRIBUTES</th>\n",
       "      <th>TAVG</th>\n",
       "      <th>TAVG_ATTRIBUTES</th>\n",
       "      <th>TMAX</th>\n",
       "      <th>TMAX_ATTRIBUTES</th>\n",
       "      <th>TMIN</th>\n",
       "      <th>TMIN_ATTRIBUTES</th>\n",
       "    </tr>\n",
       "  </thead>\n",
       "  <tbody>\n",
       "    <tr>\n",
       "      <th>0</th>\n",
       "      <td>RSM00026069</td>\n",
       "      <td>BELOGORKA, RS</td>\n",
       "      <td>59.4000</td>\n",
       "      <td>30.1</td>\n",
       "      <td>90.0</td>\n",
       "      <td>1970-01-01</td>\n",
       "      <td>NaN</td>\n",
       "      <td>NaN</td>\n",
       "      <td>0.6</td>\n",
       "      <td>,,r</td>\n",
       "      <td>NaN</td>\n",
       "      <td>NaN</td>\n",
       "      <td>-9.4</td>\n",
       "      <td>,,r</td>\n",
       "      <td>-6.5</td>\n",
       "      <td>,,r</td>\n",
       "      <td>-15.7</td>\n",
       "      <td>,,r</td>\n",
       "    </tr>\n",
       "    <tr>\n",
       "      <th>1</th>\n",
       "      <td>RSM00026069</td>\n",
       "      <td>BELOGORKA, RS</td>\n",
       "      <td>59.4000</td>\n",
       "      <td>30.1</td>\n",
       "      <td>90.0</td>\n",
       "      <td>1970-01-02</td>\n",
       "      <td>NaN</td>\n",
       "      <td>NaN</td>\n",
       "      <td>0.7</td>\n",
       "      <td>,,r</td>\n",
       "      <td>NaN</td>\n",
       "      <td>NaN</td>\n",
       "      <td>-13.4</td>\n",
       "      <td>,,r</td>\n",
       "      <td>-8.9</td>\n",
       "      <td>,,r</td>\n",
       "      <td>-18.3</td>\n",
       "      <td>,,r</td>\n",
       "    </tr>\n",
       "    <tr>\n",
       "      <th>2</th>\n",
       "      <td>RSM00026069</td>\n",
       "      <td>BELOGORKA, RS</td>\n",
       "      <td>59.4000</td>\n",
       "      <td>30.1</td>\n",
       "      <td>90.0</td>\n",
       "      <td>1970-01-03</td>\n",
       "      <td>NaN</td>\n",
       "      <td>NaN</td>\n",
       "      <td>3.7</td>\n",
       "      <td>,,r</td>\n",
       "      <td>NaN</td>\n",
       "      <td>NaN</td>\n",
       "      <td>-7.6</td>\n",
       "      <td>,,r</td>\n",
       "      <td>-7.1</td>\n",
       "      <td>,,r</td>\n",
       "      <td>-9.2</td>\n",
       "      <td>,,r</td>\n",
       "    </tr>\n",
       "    <tr>\n",
       "      <th>3</th>\n",
       "      <td>RSM00026069</td>\n",
       "      <td>BELOGORKA, RS</td>\n",
       "      <td>59.4000</td>\n",
       "      <td>30.1</td>\n",
       "      <td>90.0</td>\n",
       "      <td>1970-01-04</td>\n",
       "      <td>NaN</td>\n",
       "      <td>NaN</td>\n",
       "      <td>0.4</td>\n",
       "      <td>,,r</td>\n",
       "      <td>NaN</td>\n",
       "      <td>NaN</td>\n",
       "      <td>-5.5</td>\n",
       "      <td>,,r</td>\n",
       "      <td>-4.2</td>\n",
       "      <td>,,r</td>\n",
       "      <td>-8.5</td>\n",
       "      <td>,,r</td>\n",
       "    </tr>\n",
       "    <tr>\n",
       "      <th>4</th>\n",
       "      <td>RSM00026069</td>\n",
       "      <td>BELOGORKA, RS</td>\n",
       "      <td>59.4000</td>\n",
       "      <td>30.1</td>\n",
       "      <td>90.0</td>\n",
       "      <td>1970-01-05</td>\n",
       "      <td>NaN</td>\n",
       "      <td>NaN</td>\n",
       "      <td>1.7</td>\n",
       "      <td>,,r</td>\n",
       "      <td>NaN</td>\n",
       "      <td>NaN</td>\n",
       "      <td>-4.6</td>\n",
       "      <td>,,r</td>\n",
       "      <td>-2.5</td>\n",
       "      <td>,,r</td>\n",
       "      <td>-7.0</td>\n",
       "      <td>,,r</td>\n",
       "    </tr>\n",
       "    <tr>\n",
       "      <th>...</th>\n",
       "      <td>...</td>\n",
       "      <td>...</td>\n",
       "      <td>...</td>\n",
       "      <td>...</td>\n",
       "      <td>...</td>\n",
       "      <td>...</td>\n",
       "      <td>...</td>\n",
       "      <td>...</td>\n",
       "      <td>...</td>\n",
       "      <td>...</td>\n",
       "      <td>...</td>\n",
       "      <td>...</td>\n",
       "      <td>...</td>\n",
       "      <td>...</td>\n",
       "      <td>...</td>\n",
       "      <td>...</td>\n",
       "      <td>...</td>\n",
       "      <td>...</td>\n",
       "    </tr>\n",
       "    <tr>\n",
       "      <th>54200</th>\n",
       "      <td>RSM00026063</td>\n",
       "      <td>ST. PETERSBURG, RS</td>\n",
       "      <td>59.9667</td>\n",
       "      <td>30.3</td>\n",
       "      <td>3.0</td>\n",
       "      <td>2019-10-29</td>\n",
       "      <td>NaN</td>\n",
       "      <td>NaN</td>\n",
       "      <td>5.1</td>\n",
       "      <td>B,,S</td>\n",
       "      <td>10.0</td>\n",
       "      <td>,,S</td>\n",
       "      <td>-0.2</td>\n",
       "      <td>H,,S</td>\n",
       "      <td>1.4</td>\n",
       "      <td>,,S</td>\n",
       "      <td>NaN</td>\n",
       "      <td>NaN</td>\n",
       "    </tr>\n",
       "    <tr>\n",
       "      <th>54201</th>\n",
       "      <td>RSM00026063</td>\n",
       "      <td>ST. PETERSBURG, RS</td>\n",
       "      <td>59.9667</td>\n",
       "      <td>30.3</td>\n",
       "      <td>3.0</td>\n",
       "      <td>2019-10-30</td>\n",
       "      <td>NaN</td>\n",
       "      <td>NaN</td>\n",
       "      <td>0.0</td>\n",
       "      <td>B,,S</td>\n",
       "      <td>30.0</td>\n",
       "      <td>,,S</td>\n",
       "      <td>-1.9</td>\n",
       "      <td>H,,S</td>\n",
       "      <td>-0.2</td>\n",
       "      <td>,,S</td>\n",
       "      <td>NaN</td>\n",
       "      <td>NaN</td>\n",
       "    </tr>\n",
       "    <tr>\n",
       "      <th>54202</th>\n",
       "      <td>RSM00026063</td>\n",
       "      <td>ST. PETERSBURG, RS</td>\n",
       "      <td>59.9667</td>\n",
       "      <td>30.3</td>\n",
       "      <td>3.0</td>\n",
       "      <td>2019-10-31</td>\n",
       "      <td>NaN</td>\n",
       "      <td>NaN</td>\n",
       "      <td>3.0</td>\n",
       "      <td>B,,S</td>\n",
       "      <td>30.0</td>\n",
       "      <td>,,S</td>\n",
       "      <td>0.0</td>\n",
       "      <td>H,,S</td>\n",
       "      <td>NaN</td>\n",
       "      <td>NaN</td>\n",
       "      <td>NaN</td>\n",
       "      <td>NaN</td>\n",
       "    </tr>\n",
       "    <tr>\n",
       "      <th>54203</th>\n",
       "      <td>RSM00026063</td>\n",
       "      <td>ST. PETERSBURG, RS</td>\n",
       "      <td>59.9667</td>\n",
       "      <td>30.3</td>\n",
       "      <td>3.0</td>\n",
       "      <td>2019-11-01</td>\n",
       "      <td>NaN</td>\n",
       "      <td>NaN</td>\n",
       "      <td>0.5</td>\n",
       "      <td>B,,S</td>\n",
       "      <td>NaN</td>\n",
       "      <td>NaN</td>\n",
       "      <td>1.3</td>\n",
       "      <td>H,,S</td>\n",
       "      <td>NaN</td>\n",
       "      <td>NaN</td>\n",
       "      <td>NaN</td>\n",
       "      <td>NaN</td>\n",
       "    </tr>\n",
       "    <tr>\n",
       "      <th>54204</th>\n",
       "      <td>RSM00026063</td>\n",
       "      <td>ST. PETERSBURG, RS</td>\n",
       "      <td>59.9667</td>\n",
       "      <td>30.3</td>\n",
       "      <td>3.0</td>\n",
       "      <td>2019-11-02</td>\n",
       "      <td>NaN</td>\n",
       "      <td>NaN</td>\n",
       "      <td>0.5</td>\n",
       "      <td>B,,S</td>\n",
       "      <td>NaN</td>\n",
       "      <td>NaN</td>\n",
       "      <td>1.1</td>\n",
       "      <td>H,,S</td>\n",
       "      <td>3.5</td>\n",
       "      <td>,,S</td>\n",
       "      <td>NaN</td>\n",
       "      <td>NaN</td>\n",
       "    </tr>\n",
       "  </tbody>\n",
       "</table>\n",
       "<p>54205 rows × 18 columns</p>\n",
       "</div>"
      ],
      "text/plain": [
       "           STATION                NAME  LATITUDE  LONGITUDE  ELEVATION  \\\n",
       "0      RSM00026069       BELOGORKA, RS   59.4000       30.1       90.0   \n",
       "1      RSM00026069       BELOGORKA, RS   59.4000       30.1       90.0   \n",
       "2      RSM00026069       BELOGORKA, RS   59.4000       30.1       90.0   \n",
       "3      RSM00026069       BELOGORKA, RS   59.4000       30.1       90.0   \n",
       "4      RSM00026069       BELOGORKA, RS   59.4000       30.1       90.0   \n",
       "...            ...                 ...       ...        ...        ...   \n",
       "54200  RSM00026063  ST. PETERSBURG, RS   59.9667       30.3        3.0   \n",
       "54201  RSM00026063  ST. PETERSBURG, RS   59.9667       30.3        3.0   \n",
       "54202  RSM00026063  ST. PETERSBURG, RS   59.9667       30.3        3.0   \n",
       "54203  RSM00026063  ST. PETERSBURG, RS   59.9667       30.3        3.0   \n",
       "54204  RSM00026063  ST. PETERSBURG, RS   59.9667       30.3        3.0   \n",
       "\n",
       "             DATE  MDPR MDPR_ATTRIBUTES  PRCP PRCP_ATTRIBUTES  SNWD  \\\n",
       "0      1970-01-01   NaN             NaN   0.6             ,,r   NaN   \n",
       "1      1970-01-02   NaN             NaN   0.7             ,,r   NaN   \n",
       "2      1970-01-03   NaN             NaN   3.7             ,,r   NaN   \n",
       "3      1970-01-04   NaN             NaN   0.4             ,,r   NaN   \n",
       "4      1970-01-05   NaN             NaN   1.7             ,,r   NaN   \n",
       "...           ...   ...             ...   ...             ...   ...   \n",
       "54200  2019-10-29   NaN             NaN   5.1            B,,S  10.0   \n",
       "54201  2019-10-30   NaN             NaN   0.0            B,,S  30.0   \n",
       "54202  2019-10-31   NaN             NaN   3.0            B,,S  30.0   \n",
       "54203  2019-11-01   NaN             NaN   0.5            B,,S   NaN   \n",
       "54204  2019-11-02   NaN             NaN   0.5            B,,S   NaN   \n",
       "\n",
       "      SNWD_ATTRIBUTES  TAVG TAVG_ATTRIBUTES  TMAX TMAX_ATTRIBUTES  TMIN  \\\n",
       "0                 NaN  -9.4             ,,r  -6.5             ,,r -15.7   \n",
       "1                 NaN -13.4             ,,r  -8.9             ,,r -18.3   \n",
       "2                 NaN  -7.6             ,,r  -7.1             ,,r  -9.2   \n",
       "3                 NaN  -5.5             ,,r  -4.2             ,,r  -8.5   \n",
       "4                 NaN  -4.6             ,,r  -2.5             ,,r  -7.0   \n",
       "...               ...   ...             ...   ...             ...   ...   \n",
       "54200             ,,S  -0.2            H,,S   1.4             ,,S   NaN   \n",
       "54201             ,,S  -1.9            H,,S  -0.2             ,,S   NaN   \n",
       "54202             ,,S   0.0            H,,S   NaN             NaN   NaN   \n",
       "54203             NaN   1.3            H,,S   NaN             NaN   NaN   \n",
       "54204             NaN   1.1            H,,S   3.5             ,,S   NaN   \n",
       "\n",
       "      TMIN_ATTRIBUTES  \n",
       "0                 ,,r  \n",
       "1                 ,,r  \n",
       "2                 ,,r  \n",
       "3                 ,,r  \n",
       "4                 ,,r  \n",
       "...               ...  \n",
       "54200             NaN  \n",
       "54201             NaN  \n",
       "54202             NaN  \n",
       "54203             NaN  \n",
       "54204             NaN  \n",
       "\n",
       "[54205 rows x 18 columns]"
      ]
     },
     "execution_count": 47,
     "metadata": {},
     "output_type": "execute_result"
    }
   ],
   "source": [
    "observations"
   ]
  },
  {
   "cell_type": "markdown",
   "metadata": {},
   "source": [
    "### Если выкидывать столбцы с пропусками - данных вообще не останется"
   ]
  },
  {
   "cell_type": "code",
   "execution_count": 48,
   "metadata": {},
   "outputs": [
    {
     "data": {
      "text/html": [
       "<div>\n",
       "<style scoped>\n",
       "    .dataframe tbody tr th:only-of-type {\n",
       "        vertical-align: middle;\n",
       "    }\n",
       "\n",
       "    .dataframe tbody tr th {\n",
       "        vertical-align: top;\n",
       "    }\n",
       "\n",
       "    .dataframe thead th {\n",
       "        text-align: right;\n",
       "    }\n",
       "</style>\n",
       "<table border=\"1\" class=\"dataframe\">\n",
       "  <thead>\n",
       "    <tr style=\"text-align: right;\">\n",
       "      <th></th>\n",
       "      <th>STATION</th>\n",
       "      <th>NAME</th>\n",
       "      <th>LATITUDE</th>\n",
       "      <th>LONGITUDE</th>\n",
       "      <th>ELEVATION</th>\n",
       "      <th>DATE</th>\n",
       "    </tr>\n",
       "  </thead>\n",
       "  <tbody>\n",
       "    <tr>\n",
       "      <th>0</th>\n",
       "      <td>RSM00026069</td>\n",
       "      <td>BELOGORKA, RS</td>\n",
       "      <td>59.4000</td>\n",
       "      <td>30.1</td>\n",
       "      <td>90.0</td>\n",
       "      <td>1970-01-01</td>\n",
       "    </tr>\n",
       "    <tr>\n",
       "      <th>1</th>\n",
       "      <td>RSM00026069</td>\n",
       "      <td>BELOGORKA, RS</td>\n",
       "      <td>59.4000</td>\n",
       "      <td>30.1</td>\n",
       "      <td>90.0</td>\n",
       "      <td>1970-01-02</td>\n",
       "    </tr>\n",
       "    <tr>\n",
       "      <th>2</th>\n",
       "      <td>RSM00026069</td>\n",
       "      <td>BELOGORKA, RS</td>\n",
       "      <td>59.4000</td>\n",
       "      <td>30.1</td>\n",
       "      <td>90.0</td>\n",
       "      <td>1970-01-03</td>\n",
       "    </tr>\n",
       "    <tr>\n",
       "      <th>3</th>\n",
       "      <td>RSM00026069</td>\n",
       "      <td>BELOGORKA, RS</td>\n",
       "      <td>59.4000</td>\n",
       "      <td>30.1</td>\n",
       "      <td>90.0</td>\n",
       "      <td>1970-01-04</td>\n",
       "    </tr>\n",
       "    <tr>\n",
       "      <th>4</th>\n",
       "      <td>RSM00026069</td>\n",
       "      <td>BELOGORKA, RS</td>\n",
       "      <td>59.4000</td>\n",
       "      <td>30.1</td>\n",
       "      <td>90.0</td>\n",
       "      <td>1970-01-05</td>\n",
       "    </tr>\n",
       "    <tr>\n",
       "      <th>...</th>\n",
       "      <td>...</td>\n",
       "      <td>...</td>\n",
       "      <td>...</td>\n",
       "      <td>...</td>\n",
       "      <td>...</td>\n",
       "      <td>...</td>\n",
       "    </tr>\n",
       "    <tr>\n",
       "      <th>54200</th>\n",
       "      <td>RSM00026063</td>\n",
       "      <td>ST. PETERSBURG, RS</td>\n",
       "      <td>59.9667</td>\n",
       "      <td>30.3</td>\n",
       "      <td>3.0</td>\n",
       "      <td>2019-10-29</td>\n",
       "    </tr>\n",
       "    <tr>\n",
       "      <th>54201</th>\n",
       "      <td>RSM00026063</td>\n",
       "      <td>ST. PETERSBURG, RS</td>\n",
       "      <td>59.9667</td>\n",
       "      <td>30.3</td>\n",
       "      <td>3.0</td>\n",
       "      <td>2019-10-30</td>\n",
       "    </tr>\n",
       "    <tr>\n",
       "      <th>54202</th>\n",
       "      <td>RSM00026063</td>\n",
       "      <td>ST. PETERSBURG, RS</td>\n",
       "      <td>59.9667</td>\n",
       "      <td>30.3</td>\n",
       "      <td>3.0</td>\n",
       "      <td>2019-10-31</td>\n",
       "    </tr>\n",
       "    <tr>\n",
       "      <th>54203</th>\n",
       "      <td>RSM00026063</td>\n",
       "      <td>ST. PETERSBURG, RS</td>\n",
       "      <td>59.9667</td>\n",
       "      <td>30.3</td>\n",
       "      <td>3.0</td>\n",
       "      <td>2019-11-01</td>\n",
       "    </tr>\n",
       "    <tr>\n",
       "      <th>54204</th>\n",
       "      <td>RSM00026063</td>\n",
       "      <td>ST. PETERSBURG, RS</td>\n",
       "      <td>59.9667</td>\n",
       "      <td>30.3</td>\n",
       "      <td>3.0</td>\n",
       "      <td>2019-11-02</td>\n",
       "    </tr>\n",
       "  </tbody>\n",
       "</table>\n",
       "<p>54205 rows × 6 columns</p>\n",
       "</div>"
      ],
      "text/plain": [
       "           STATION                NAME  LATITUDE  LONGITUDE  ELEVATION  \\\n",
       "0      RSM00026069       BELOGORKA, RS   59.4000       30.1       90.0   \n",
       "1      RSM00026069       BELOGORKA, RS   59.4000       30.1       90.0   \n",
       "2      RSM00026069       BELOGORKA, RS   59.4000       30.1       90.0   \n",
       "3      RSM00026069       BELOGORKA, RS   59.4000       30.1       90.0   \n",
       "4      RSM00026069       BELOGORKA, RS   59.4000       30.1       90.0   \n",
       "...            ...                 ...       ...        ...        ...   \n",
       "54200  RSM00026063  ST. PETERSBURG, RS   59.9667       30.3        3.0   \n",
       "54201  RSM00026063  ST. PETERSBURG, RS   59.9667       30.3        3.0   \n",
       "54202  RSM00026063  ST. PETERSBURG, RS   59.9667       30.3        3.0   \n",
       "54203  RSM00026063  ST. PETERSBURG, RS   59.9667       30.3        3.0   \n",
       "54204  RSM00026063  ST. PETERSBURG, RS   59.9667       30.3        3.0   \n",
       "\n",
       "             DATE  \n",
       "0      1970-01-01  \n",
       "1      1970-01-02  \n",
       "2      1970-01-03  \n",
       "3      1970-01-04  \n",
       "4      1970-01-05  \n",
       "...           ...  \n",
       "54200  2019-10-29  \n",
       "54201  2019-10-30  \n",
       "54202  2019-10-31  \n",
       "54203  2019-11-01  \n",
       "54204  2019-11-02  \n",
       "\n",
       "[54205 rows x 6 columns]"
      ]
     },
     "execution_count": 48,
     "metadata": {},
     "output_type": "execute_result"
    }
   ],
   "source": [
    "observations.dropna(axis='columns')"
   ]
  },
  {
   "cell_type": "markdown",
   "metadata": {},
   "source": [
    "### Воспользуемся логическим индексированием и выберем только конкретные столбцы"
   ]
  },
  {
   "cell_type": "code",
   "execution_count": 51,
   "metadata": {},
   "outputs": [],
   "source": [
    "observations = observations[['NAME', 'DATE', 'PRCP', 'TAVG']]"
   ]
  },
  {
   "cell_type": "code",
   "execution_count": 52,
   "metadata": {},
   "outputs": [
    {
     "data": {
      "text/html": [
       "<div>\n",
       "<style scoped>\n",
       "    .dataframe tbody tr th:only-of-type {\n",
       "        vertical-align: middle;\n",
       "    }\n",
       "\n",
       "    .dataframe tbody tr th {\n",
       "        vertical-align: top;\n",
       "    }\n",
       "\n",
       "    .dataframe thead th {\n",
       "        text-align: right;\n",
       "    }\n",
       "</style>\n",
       "<table border=\"1\" class=\"dataframe\">\n",
       "  <thead>\n",
       "    <tr style=\"text-align: right;\">\n",
       "      <th></th>\n",
       "      <th>NAME</th>\n",
       "      <th>DATE</th>\n",
       "      <th>PRCP</th>\n",
       "      <th>TAVG</th>\n",
       "    </tr>\n",
       "  </thead>\n",
       "  <tbody>\n",
       "    <tr>\n",
       "      <th>0</th>\n",
       "      <td>BELOGORKA, RS</td>\n",
       "      <td>1970-01-01</td>\n",
       "      <td>0.6</td>\n",
       "      <td>-9.4</td>\n",
       "    </tr>\n",
       "    <tr>\n",
       "      <th>1</th>\n",
       "      <td>BELOGORKA, RS</td>\n",
       "      <td>1970-01-02</td>\n",
       "      <td>0.7</td>\n",
       "      <td>-13.4</td>\n",
       "    </tr>\n",
       "    <tr>\n",
       "      <th>2</th>\n",
       "      <td>BELOGORKA, RS</td>\n",
       "      <td>1970-01-03</td>\n",
       "      <td>3.7</td>\n",
       "      <td>-7.6</td>\n",
       "    </tr>\n",
       "    <tr>\n",
       "      <th>3</th>\n",
       "      <td>BELOGORKA, RS</td>\n",
       "      <td>1970-01-04</td>\n",
       "      <td>0.4</td>\n",
       "      <td>-5.5</td>\n",
       "    </tr>\n",
       "    <tr>\n",
       "      <th>4</th>\n",
       "      <td>BELOGORKA, RS</td>\n",
       "      <td>1970-01-05</td>\n",
       "      <td>1.7</td>\n",
       "      <td>-4.6</td>\n",
       "    </tr>\n",
       "    <tr>\n",
       "      <th>...</th>\n",
       "      <td>...</td>\n",
       "      <td>...</td>\n",
       "      <td>...</td>\n",
       "      <td>...</td>\n",
       "    </tr>\n",
       "    <tr>\n",
       "      <th>54200</th>\n",
       "      <td>ST. PETERSBURG, RS</td>\n",
       "      <td>2019-10-29</td>\n",
       "      <td>5.1</td>\n",
       "      <td>-0.2</td>\n",
       "    </tr>\n",
       "    <tr>\n",
       "      <th>54201</th>\n",
       "      <td>ST. PETERSBURG, RS</td>\n",
       "      <td>2019-10-30</td>\n",
       "      <td>0.0</td>\n",
       "      <td>-1.9</td>\n",
       "    </tr>\n",
       "    <tr>\n",
       "      <th>54202</th>\n",
       "      <td>ST. PETERSBURG, RS</td>\n",
       "      <td>2019-10-31</td>\n",
       "      <td>3.0</td>\n",
       "      <td>0.0</td>\n",
       "    </tr>\n",
       "    <tr>\n",
       "      <th>54203</th>\n",
       "      <td>ST. PETERSBURG, RS</td>\n",
       "      <td>2019-11-01</td>\n",
       "      <td>0.5</td>\n",
       "      <td>1.3</td>\n",
       "    </tr>\n",
       "    <tr>\n",
       "      <th>54204</th>\n",
       "      <td>ST. PETERSBURG, RS</td>\n",
       "      <td>2019-11-02</td>\n",
       "      <td>0.5</td>\n",
       "      <td>1.1</td>\n",
       "    </tr>\n",
       "  </tbody>\n",
       "</table>\n",
       "<p>54205 rows × 4 columns</p>\n",
       "</div>"
      ],
      "text/plain": [
       "                     NAME        DATE  PRCP  TAVG\n",
       "0           BELOGORKA, RS  1970-01-01   0.6  -9.4\n",
       "1           BELOGORKA, RS  1970-01-02   0.7 -13.4\n",
       "2           BELOGORKA, RS  1970-01-03   3.7  -7.6\n",
       "3           BELOGORKA, RS  1970-01-04   0.4  -5.5\n",
       "4           BELOGORKA, RS  1970-01-05   1.7  -4.6\n",
       "...                   ...         ...   ...   ...\n",
       "54200  ST. PETERSBURG, RS  2019-10-29   5.1  -0.2\n",
       "54201  ST. PETERSBURG, RS  2019-10-30   0.0  -1.9\n",
       "54202  ST. PETERSBURG, RS  2019-10-31   3.0   0.0\n",
       "54203  ST. PETERSBURG, RS  2019-11-01   0.5   1.3\n",
       "54204  ST. PETERSBURG, RS  2019-11-02   0.5   1.1\n",
       "\n",
       "[54205 rows x 4 columns]"
      ]
     },
     "execution_count": 52,
     "metadata": {},
     "output_type": "execute_result"
    }
   ],
   "source": [
    "observations"
   ]
  },
  {
   "cell_type": "markdown",
   "metadata": {},
   "source": [
    "### Посмотрим сколько у нас всего пропусков. Сравним с длиной наблюдений"
   ]
  },
  {
   "cell_type": "code",
   "execution_count": 53,
   "metadata": {},
   "outputs": [
    {
     "data": {
      "text/plain": [
       "(4147, 54205)"
      ]
     },
     "execution_count": 53,
     "metadata": {},
     "output_type": "execute_result"
    }
   ],
   "source": [
    "sum(observations.PRCP.isna()), len(observations.PRCP)"
   ]
  },
  {
   "cell_type": "markdown",
   "metadata": {},
   "source": [
    "### Определим уникальные переменные в столбце имён"
   ]
  },
  {
   "cell_type": "code",
   "execution_count": 55,
   "metadata": {},
   "outputs": [
    {
     "data": {
      "text/plain": [
       "array(['BELOGORKA, RS', 'KINGISEPP, RS', 'ST. PETERSBURG, RS'],\n",
       "      dtype=object)"
      ]
     },
     "execution_count": 55,
     "metadata": {},
     "output_type": "execute_result"
    }
   ],
   "source": [
    "observations.NAME.unique()"
   ]
  },
  {
   "cell_type": "markdown",
   "metadata": {},
   "source": [
    "### Опять логическое индексирование. Выберем данные только для Белогорки"
   ]
  },
  {
   "cell_type": "code",
   "execution_count": 56,
   "metadata": {},
   "outputs": [
    {
     "data": {
      "text/html": [
       "<div>\n",
       "<style scoped>\n",
       "    .dataframe tbody tr th:only-of-type {\n",
       "        vertical-align: middle;\n",
       "    }\n",
       "\n",
       "    .dataframe tbody tr th {\n",
       "        vertical-align: top;\n",
       "    }\n",
       "\n",
       "    .dataframe thead th {\n",
       "        text-align: right;\n",
       "    }\n",
       "</style>\n",
       "<table border=\"1\" class=\"dataframe\">\n",
       "  <thead>\n",
       "    <tr style=\"text-align: right;\">\n",
       "      <th></th>\n",
       "      <th>NAME</th>\n",
       "      <th>DATE</th>\n",
       "      <th>PRCP</th>\n",
       "      <th>TAVG</th>\n",
       "    </tr>\n",
       "  </thead>\n",
       "  <tbody>\n",
       "    <tr>\n",
       "      <th>0</th>\n",
       "      <td>BELOGORKA, RS</td>\n",
       "      <td>1970-01-01</td>\n",
       "      <td>0.6</td>\n",
       "      <td>-9.4</td>\n",
       "    </tr>\n",
       "    <tr>\n",
       "      <th>1</th>\n",
       "      <td>BELOGORKA, RS</td>\n",
       "      <td>1970-01-02</td>\n",
       "      <td>0.7</td>\n",
       "      <td>-13.4</td>\n",
       "    </tr>\n",
       "    <tr>\n",
       "      <th>2</th>\n",
       "      <td>BELOGORKA, RS</td>\n",
       "      <td>1970-01-03</td>\n",
       "      <td>3.7</td>\n",
       "      <td>-7.6</td>\n",
       "    </tr>\n",
       "    <tr>\n",
       "      <th>3</th>\n",
       "      <td>BELOGORKA, RS</td>\n",
       "      <td>1970-01-04</td>\n",
       "      <td>0.4</td>\n",
       "      <td>-5.5</td>\n",
       "    </tr>\n",
       "    <tr>\n",
       "      <th>4</th>\n",
       "      <td>BELOGORKA, RS</td>\n",
       "      <td>1970-01-05</td>\n",
       "      <td>1.7</td>\n",
       "      <td>-4.6</td>\n",
       "    </tr>\n",
       "    <tr>\n",
       "      <th>...</th>\n",
       "      <td>...</td>\n",
       "      <td>...</td>\n",
       "      <td>...</td>\n",
       "      <td>...</td>\n",
       "    </tr>\n",
       "    <tr>\n",
       "      <th>17892</th>\n",
       "      <td>BELOGORKA, RS</td>\n",
       "      <td>2019-10-29</td>\n",
       "      <td>2.0</td>\n",
       "      <td>-1.1</td>\n",
       "    </tr>\n",
       "    <tr>\n",
       "      <th>17893</th>\n",
       "      <td>BELOGORKA, RS</td>\n",
       "      <td>2019-10-30</td>\n",
       "      <td>0.3</td>\n",
       "      <td>-2.6</td>\n",
       "    </tr>\n",
       "    <tr>\n",
       "      <th>17894</th>\n",
       "      <td>BELOGORKA, RS</td>\n",
       "      <td>2019-10-31</td>\n",
       "      <td>0.3</td>\n",
       "      <td>-1.6</td>\n",
       "    </tr>\n",
       "    <tr>\n",
       "      <th>17895</th>\n",
       "      <td>BELOGORKA, RS</td>\n",
       "      <td>2019-11-01</td>\n",
       "      <td>2.3</td>\n",
       "      <td>1.1</td>\n",
       "    </tr>\n",
       "    <tr>\n",
       "      <th>17896</th>\n",
       "      <td>BELOGORKA, RS</td>\n",
       "      <td>2019-11-02</td>\n",
       "      <td>0.3</td>\n",
       "      <td>0.4</td>\n",
       "    </tr>\n",
       "  </tbody>\n",
       "</table>\n",
       "<p>17897 rows × 4 columns</p>\n",
       "</div>"
      ],
      "text/plain": [
       "                NAME        DATE  PRCP  TAVG\n",
       "0      BELOGORKA, RS  1970-01-01   0.6  -9.4\n",
       "1      BELOGORKA, RS  1970-01-02   0.7 -13.4\n",
       "2      BELOGORKA, RS  1970-01-03   3.7  -7.6\n",
       "3      BELOGORKA, RS  1970-01-04   0.4  -5.5\n",
       "4      BELOGORKA, RS  1970-01-05   1.7  -4.6\n",
       "...              ...         ...   ...   ...\n",
       "17892  BELOGORKA, RS  2019-10-29   2.0  -1.1\n",
       "17893  BELOGORKA, RS  2019-10-30   0.3  -2.6\n",
       "17894  BELOGORKA, RS  2019-10-31   0.3  -1.6\n",
       "17895  BELOGORKA, RS  2019-11-01   2.3   1.1\n",
       "17896  BELOGORKA, RS  2019-11-02   0.3   0.4\n",
       "\n",
       "[17897 rows x 4 columns]"
      ]
     },
     "execution_count": 56,
     "metadata": {},
     "output_type": "execute_result"
    }
   ],
   "source": [
    "observations[observations.NAME == 'BELOGORKA, RS']"
   ]
  },
  {
   "cell_type": "code",
   "execution_count": 57,
   "metadata": {},
   "outputs": [],
   "source": [
    "observations_Belogorka = observations[observations.NAME == 'BELOGORKA, RS'] \n",
    "observations_SPB = observations[observations.NAME == 'ST. PETERSBURG, RS'] \n",
    "observations_KINGISEP = observations[observations.NAME == 'KINGISEPP, RS']"
   ]
  },
  {
   "cell_type": "code",
   "execution_count": 58,
   "metadata": {},
   "outputs": [
    {
     "data": {
      "text/plain": [
       "4129"
      ]
     },
     "execution_count": 58,
     "metadata": {},
     "output_type": "execute_result"
    }
   ],
   "source": [
    "sum(observations_KINGISEP.PRCP.isna())"
   ]
  },
  {
   "cell_type": "markdown",
   "metadata": {},
   "source": [
    "### Выбираем нужный промежуток наблюдений"
   ]
  },
  {
   "cell_type": "code",
   "execution_count": 59,
   "metadata": {},
   "outputs": [
    {
     "data": {
      "text/plain": [
       "0        False\n",
       "1        False\n",
       "2        False\n",
       "3        False\n",
       "4        False\n",
       "         ...  \n",
       "17892     True\n",
       "17893     True\n",
       "17894     True\n",
       "17895     True\n",
       "17896     True\n",
       "Name: DATE, Length: 17897, dtype: bool"
      ]
     },
     "execution_count": 59,
     "metadata": {},
     "output_type": "execute_result"
    }
   ],
   "source": [
    "observations_Belogorka.DATE >= '1979-01-01'"
   ]
  },
  {
   "cell_type": "markdown",
   "metadata": {},
   "source": [
    "### \"Магическая функция\", которая позволяет отображать график сразу после ввода команды"
   ]
  },
  {
   "cell_type": "code",
   "execution_count": 61,
   "metadata": {},
   "outputs": [],
   "source": [
    "%matplotlib inline"
   ]
  },
  {
   "cell_type": "code",
   "execution_count": 62,
   "metadata": {},
   "outputs": [
    {
     "data": {
      "text/plain": [
       "<matplotlib.axes._subplots.AxesSubplot at 0x1ba266a92e8>"
      ]
     },
     "execution_count": 62,
     "metadata": {},
     "output_type": "execute_result"
    },
    {
     "data": {
      "image/png": "[encoded data removed]",
      "text/plain": [
       "<Figure size 432x288 with 1 Axes>"
      ]
     },
     "metadata": {
      "needs_background": "light"
     },
     "output_type": "display_data"
    }
   ],
   "source": [
    "observations_Belogorka.plot(x = 'DATE', y = 'TAVG')"
   ]
  },
  {
   "cell_type": "code",
   "execution_count": 63,
   "metadata": {},
   "outputs": [
    {
     "data": {
      "text/plain": [
       "<matplotlib.axes._subplots.AxesSubplot at 0x1ba26a47828>"
      ]
     },
     "execution_count": 63,
     "metadata": {},
     "output_type": "execute_result"
    },
    {
     "data": {
      "image/png": "[encoded data removed]",
      "text/plain": [
       "<Figure size 432x288 with 1 Axes>"
      ]
     },
     "metadata": {
      "needs_background": "light"
     },
     "output_type": "display_data"
    }
   ],
   "source": [
    "observations_Belogorka[(observations_Belogorka.DATE >= '1979-01-01') & (observations_Belogorka.DATE <= '1979-01-30')].plot(x = 'DATE', y = 'TAVG')"
   ]
  },
  {
   "cell_type": "code",
   "execution_count": 64,
   "metadata": {},
   "outputs": [
    {
     "data": {
      "text/plain": [
       "<matplotlib.axes._subplots.AxesSubplot at 0x1ba26a39ba8>"
      ]
     },
     "execution_count": 64,
     "metadata": {},
     "output_type": "execute_result"
    },
    {
     "data": {
      "image/png": "[encoded data removed]",
      "text/plain": [
       "<Figure size 432x288 with 1 Axes>"
      ]
     },
     "metadata": {
      "needs_background": "light"
     },
     "output_type": "display_data"
    }
   ],
   "source": [
    "observations_SPB[(observations_SPB.DATE >= '1979-01-01') & (observations_SPB.DATE <= '1979-01-30')].plot(x = 'DATE', y = 'TAVG', color = 'red')"
   ]
  },
  {
   "cell_type": "code",
   "execution_count": 67,
   "metadata": {},
   "outputs": [
    {
     "data": {
      "text/plain": [
       "<matplotlib.legend.Legend at 0x1ba26e1bfd0>"
      ]
     },
     "execution_count": 67,
     "metadata": {},
     "output_type": "execute_result"
    },
    {
     "data": {
      "image/png": "[encoded data removed]",
      "text/plain": [
       "<Figure size 432x288 with 1 Axes>"
      ]
     },
     "metadata": {
      "needs_background": "light"
     },
     "output_type": "display_data"
    }
   ],
   "source": [
    "import matplotlib.pyplot as plt\n",
    "\n",
    "ax = plt.gca()\n",
    "\n",
    "observations_Belogorka[(observations_Belogorka.DATE >= '1979-01-01') & (observations_Belogorka.DATE <= '1979-01-30')].plot(x = 'DATE', y = 'TAVG', color = 'red', ax = ax)\n",
    "observations_SPB[(observations_SPB.DATE >= '1979-01-01') & (observations_SPB.DATE <= '1979-01-30')].plot(x = 'DATE', y = 'TAVG', ax = ax)\n",
    "\n",
    "labels = [observations_Belogorka.NAME.unique()[0], observations_SPB.NAME.unique()[0]]\n",
    "\n",
    "plt.legend(labels,loc='lower right')"
   ]
  },
  {
   "cell_type": "markdown",
   "metadata": {},
   "source": [
    "### Функция для определения среднего за N сроков наблюдений"
   ]
  },
  {
   "cell_type": "code",
   "execution_count": 91,
   "metadata": {},
   "outputs": [],
   "source": [
    "def running_mean(x, N):\n",
    "    cumsum = np.cumsum(np.insert(x, 0, 0))\n",
    "    t = (cumsum[N:] - cumsum[:-N]) / float(N)\n",
    "    return t[::N]"
   ]
  },
  {
   "cell_type": "code",
   "execution_count": 92,
   "metadata": {},
   "outputs": [],
   "source": [
    "test = observations_Belogorka[(observations_Belogorka.DATE >= '1979-01-01') & (observations_Belogorka.DATE <= '1979-01-30')]"
   ]
  },
  {
   "cell_type": "code",
   "execution_count": 99,
   "metadata": {},
   "outputs": [
    {
     "name": "stderr",
     "output_type": "stream",
     "text": [
      "C:\\Users\\dmbrm\\Miniconda3\\envs\\geo\\lib\\site-packages\\ipykernel_launcher.py:1: SettingWithCopyWarning: \n",
      "A value is trying to be set on a copy of a slice from a DataFrame.\n",
      "Try using .loc[row_indexer,col_indexer] = value instead\n",
      "\n",
      "See the caveats in the documentation: http://pandas.pydata.org/pandas-docs/stable/user_guide/indexing.html#returning-a-view-versus-a-copy\n",
      "  \"\"\"Entry point for launching an IPython kernel.\n",
      "C:\\Users\\dmbrm\\Miniconda3\\envs\\geo\\lib\\site-packages\\ipykernel_launcher.py:2: SettingWithCopyWarning: \n",
      "A value is trying to be set on a copy of a slice from a DataFrame.\n",
      "Try using .loc[row_indexer,col_indexer] = value instead\n",
      "\n",
      "See the caveats in the documentation: http://pandas.pydata.org/pandas-docs/stable/user_guide/indexing.html#returning-a-view-versus-a-copy\n",
      "  \n"
     ]
    }
   ],
   "source": [
    "test['t2m'] = running_mean(t2m, 2)\n",
    "test['tp'] = running_mean(tp, 2)"
   ]
  },
  {
   "cell_type": "code",
   "execution_count": 100,
   "metadata": {},
   "outputs": [],
   "source": [
    "test.t2m = test.t2m - 273.15\n",
    "test.tp = test.tp * 10**4"
   ]
  },
  {
   "cell_type": "code",
   "execution_count": 101,
   "metadata": {},
   "outputs": [
    {
     "data": {
      "text/html": [
       "<div>\n",
       "<style scoped>\n",
       "    .dataframe tbody tr th:only-of-type {\n",
       "        vertical-align: middle;\n",
       "    }\n",
       "\n",
       "    .dataframe tbody tr th {\n",
       "        vertical-align: top;\n",
       "    }\n",
       "\n",
       "    .dataframe thead th {\n",
       "        text-align: right;\n",
       "    }\n",
       "</style>\n",
       "<table border=\"1\" class=\"dataframe\">\n",
       "  <thead>\n",
       "    <tr style=\"text-align: right;\">\n",
       "      <th></th>\n",
       "      <th>NAME</th>\n",
       "      <th>DATE</th>\n",
       "      <th>PRCP</th>\n",
       "      <th>TAVG</th>\n",
       "      <th>t2m</th>\n",
       "      <th>tp</th>\n",
       "    </tr>\n",
       "  </thead>\n",
       "  <tbody>\n",
       "    <tr>\n",
       "      <th>3287</th>\n",
       "      <td>BELOGORKA, RS</td>\n",
       "      <td>1979-01-01</td>\n",
       "      <td>0.0</td>\n",
       "      <td>-26.9</td>\n",
       "      <td>-27.174730</td>\n",
       "      <td>0.016307</td>\n",
       "    </tr>\n",
       "    <tr>\n",
       "      <th>3288</th>\n",
       "      <td>BELOGORKA, RS</td>\n",
       "      <td>1979-01-02</td>\n",
       "      <td>1.1</td>\n",
       "      <td>-23.3</td>\n",
       "      <td>-20.693967</td>\n",
       "      <td>2.073581</td>\n",
       "    </tr>\n",
       "    <tr>\n",
       "      <th>3289</th>\n",
       "      <td>BELOGORKA, RS</td>\n",
       "      <td>1979-01-03</td>\n",
       "      <td>5.9</td>\n",
       "      <td>-17.3</td>\n",
       "      <td>-17.119139</td>\n",
       "      <td>10.178358</td>\n",
       "    </tr>\n",
       "    <tr>\n",
       "      <th>3290</th>\n",
       "      <td>BELOGORKA, RS</td>\n",
       "      <td>1979-01-04</td>\n",
       "      <td>0.6</td>\n",
       "      <td>-17.4</td>\n",
       "      <td>-16.287688</td>\n",
       "      <td>1.422768</td>\n",
       "    </tr>\n",
       "    <tr>\n",
       "      <th>3291</th>\n",
       "      <td>BELOGORKA, RS</td>\n",
       "      <td>1979-01-05</td>\n",
       "      <td>6.7</td>\n",
       "      <td>-14.4</td>\n",
       "      <td>-13.300325</td>\n",
       "      <td>2.418154</td>\n",
       "    </tr>\n",
       "    <tr>\n",
       "      <th>3292</th>\n",
       "      <td>BELOGORKA, RS</td>\n",
       "      <td>1979-01-06</td>\n",
       "      <td>0.0</td>\n",
       "      <td>-17.3</td>\n",
       "      <td>-15.680385</td>\n",
       "      <td>0.041510</td>\n",
       "    </tr>\n",
       "    <tr>\n",
       "      <th>3293</th>\n",
       "      <td>BELOGORKA, RS</td>\n",
       "      <td>1979-01-07</td>\n",
       "      <td>1.4</td>\n",
       "      <td>-18.0</td>\n",
       "      <td>-14.381093</td>\n",
       "      <td>1.413025</td>\n",
       "    </tr>\n",
       "    <tr>\n",
       "      <th>3294</th>\n",
       "      <td>BELOGORKA, RS</td>\n",
       "      <td>1979-01-08</td>\n",
       "      <td>4.1</td>\n",
       "      <td>-2.4</td>\n",
       "      <td>-1.871417</td>\n",
       "      <td>11.714854</td>\n",
       "    </tr>\n",
       "    <tr>\n",
       "      <th>3295</th>\n",
       "      <td>BELOGORKA, RS</td>\n",
       "      <td>1979-01-09</td>\n",
       "      <td>0.5</td>\n",
       "      <td>-2.4</td>\n",
       "      <td>-2.016507</td>\n",
       "      <td>2.154694</td>\n",
       "    </tr>\n",
       "    <tr>\n",
       "      <th>3296</th>\n",
       "      <td>BELOGORKA, RS</td>\n",
       "      <td>1979-01-10</td>\n",
       "      <td>4.1</td>\n",
       "      <td>-1.0</td>\n",
       "      <td>-0.870596</td>\n",
       "      <td>7.580187</td>\n",
       "    </tr>\n",
       "    <tr>\n",
       "      <th>3297</th>\n",
       "      <td>BELOGORKA, RS</td>\n",
       "      <td>1979-01-11</td>\n",
       "      <td>3.3</td>\n",
       "      <td>-2.1</td>\n",
       "      <td>-2.040491</td>\n",
       "      <td>4.454249</td>\n",
       "    </tr>\n",
       "    <tr>\n",
       "      <th>3298</th>\n",
       "      <td>BELOGORKA, RS</td>\n",
       "      <td>1979-01-12</td>\n",
       "      <td>0.3</td>\n",
       "      <td>-2.9</td>\n",
       "      <td>-1.835589</td>\n",
       "      <td>0.218350</td>\n",
       "    </tr>\n",
       "    <tr>\n",
       "      <th>3299</th>\n",
       "      <td>BELOGORKA, RS</td>\n",
       "      <td>1979-01-13</td>\n",
       "      <td>0.0</td>\n",
       "      <td>0.5</td>\n",
       "      <td>1.645375</td>\n",
       "      <td>2.351019</td>\n",
       "    </tr>\n",
       "    <tr>\n",
       "      <th>3300</th>\n",
       "      <td>BELOGORKA, RS</td>\n",
       "      <td>1979-01-14</td>\n",
       "      <td>0.0</td>\n",
       "      <td>0.5</td>\n",
       "      <td>0.705846</td>\n",
       "      <td>0.628576</td>\n",
       "    </tr>\n",
       "    <tr>\n",
       "      <th>3301</th>\n",
       "      <td>BELOGORKA, RS</td>\n",
       "      <td>1979-01-15</td>\n",
       "      <td>0.0</td>\n",
       "      <td>-6.0</td>\n",
       "      <td>-7.519544</td>\n",
       "      <td>0.067983</td>\n",
       "    </tr>\n",
       "    <tr>\n",
       "      <th>3302</th>\n",
       "      <td>BELOGORKA, RS</td>\n",
       "      <td>1979-01-16</td>\n",
       "      <td>0.0</td>\n",
       "      <td>-8.7</td>\n",
       "      <td>-8.280820</td>\n",
       "      <td>0.055064</td>\n",
       "    </tr>\n",
       "    <tr>\n",
       "      <th>3303</th>\n",
       "      <td>BELOGORKA, RS</td>\n",
       "      <td>1979-01-17</td>\n",
       "      <td>0.0</td>\n",
       "      <td>-10.4</td>\n",
       "      <td>-9.534512</td>\n",
       "      <td>0.019484</td>\n",
       "    </tr>\n",
       "    <tr>\n",
       "      <th>3304</th>\n",
       "      <td>BELOGORKA, RS</td>\n",
       "      <td>1979-01-18</td>\n",
       "      <td>0.2</td>\n",
       "      <td>-11.7</td>\n",
       "      <td>-13.156419</td>\n",
       "      <td>0.035580</td>\n",
       "    </tr>\n",
       "    <tr>\n",
       "      <th>3305</th>\n",
       "      <td>BELOGORKA, RS</td>\n",
       "      <td>1979-01-19</td>\n",
       "      <td>0.0</td>\n",
       "      <td>-18.3</td>\n",
       "      <td>-18.026097</td>\n",
       "      <td>0.004871</td>\n",
       "    </tr>\n",
       "    <tr>\n",
       "      <th>3306</th>\n",
       "      <td>BELOGORKA, RS</td>\n",
       "      <td>1979-01-20</td>\n",
       "      <td>0.0</td>\n",
       "      <td>-12.1</td>\n",
       "      <td>-12.022945</td>\n",
       "      <td>0.313441</td>\n",
       "    </tr>\n",
       "    <tr>\n",
       "      <th>3307</th>\n",
       "      <td>BELOGORKA, RS</td>\n",
       "      <td>1979-01-21</td>\n",
       "      <td>0.0</td>\n",
       "      <td>-13.4</td>\n",
       "      <td>-10.960534</td>\n",
       "      <td>0.009107</td>\n",
       "    </tr>\n",
       "    <tr>\n",
       "      <th>3308</th>\n",
       "      <td>BELOGORKA, RS</td>\n",
       "      <td>1979-01-22</td>\n",
       "      <td>0.0</td>\n",
       "      <td>-14.2</td>\n",
       "      <td>-12.615147</td>\n",
       "      <td>0.023296</td>\n",
       "    </tr>\n",
       "    <tr>\n",
       "      <th>3309</th>\n",
       "      <td>BELOGORKA, RS</td>\n",
       "      <td>1979-01-23</td>\n",
       "      <td>0.3</td>\n",
       "      <td>-14.0</td>\n",
       "      <td>-13.787707</td>\n",
       "      <td>0.413827</td>\n",
       "    </tr>\n",
       "    <tr>\n",
       "      <th>3310</th>\n",
       "      <td>BELOGORKA, RS</td>\n",
       "      <td>1979-01-24</td>\n",
       "      <td>0.5</td>\n",
       "      <td>-15.4</td>\n",
       "      <td>-14.594286</td>\n",
       "      <td>1.879375</td>\n",
       "    </tr>\n",
       "    <tr>\n",
       "      <th>3311</th>\n",
       "      <td>BELOGORKA, RS</td>\n",
       "      <td>1979-01-25</td>\n",
       "      <td>8.2</td>\n",
       "      <td>-10.2</td>\n",
       "      <td>-9.378170</td>\n",
       "      <td>7.440409</td>\n",
       "    </tr>\n",
       "    <tr>\n",
       "      <th>3312</th>\n",
       "      <td>BELOGORKA, RS</td>\n",
       "      <td>1979-01-26</td>\n",
       "      <td>0.2</td>\n",
       "      <td>-5.4</td>\n",
       "      <td>-4.257103</td>\n",
       "      <td>0.428228</td>\n",
       "    </tr>\n",
       "    <tr>\n",
       "      <th>3313</th>\n",
       "      <td>BELOGORKA, RS</td>\n",
       "      <td>1979-01-27</td>\n",
       "      <td>1.3</td>\n",
       "      <td>-4.6</td>\n",
       "      <td>-4.463190</td>\n",
       "      <td>0.433099</td>\n",
       "    </tr>\n",
       "    <tr>\n",
       "      <th>3314</th>\n",
       "      <td>BELOGORKA, RS</td>\n",
       "      <td>1979-01-28</td>\n",
       "      <td>0.6</td>\n",
       "      <td>-5.9</td>\n",
       "      <td>-5.939845</td>\n",
       "      <td>0.728962</td>\n",
       "    </tr>\n",
       "    <tr>\n",
       "      <th>3315</th>\n",
       "      <td>BELOGORKA, RS</td>\n",
       "      <td>1979-01-29</td>\n",
       "      <td>0.0</td>\n",
       "      <td>-14.3</td>\n",
       "      <td>-15.049986</td>\n",
       "      <td>0.033038</td>\n",
       "    </tr>\n",
       "    <tr>\n",
       "      <th>3316</th>\n",
       "      <td>BELOGORKA, RS</td>\n",
       "      <td>1979-01-30</td>\n",
       "      <td>0.2</td>\n",
       "      <td>-12.0</td>\n",
       "      <td>-14.043538</td>\n",
       "      <td>0.039392</td>\n",
       "    </tr>\n",
       "  </tbody>\n",
       "</table>\n",
       "</div>"
      ],
      "text/plain": [
       "               NAME        DATE  PRCP  TAVG        t2m         tp\n",
       "3287  BELOGORKA, RS  1979-01-01   0.0 -26.9 -27.174730   0.016307\n",
       "3288  BELOGORKA, RS  1979-01-02   1.1 -23.3 -20.693967   2.073581\n",
       "3289  BELOGORKA, RS  1979-01-03   5.9 -17.3 -17.119139  10.178358\n",
       "3290  BELOGORKA, RS  1979-01-04   0.6 -17.4 -16.287688   1.422768\n",
       "3291  BELOGORKA, RS  1979-01-05   6.7 -14.4 -13.300325   2.418154\n",
       "3292  BELOGORKA, RS  1979-01-06   0.0 -17.3 -15.680385   0.041510\n",
       "3293  BELOGORKA, RS  1979-01-07   1.4 -18.0 -14.381093   1.413025\n",
       "3294  BELOGORKA, RS  1979-01-08   4.1  -2.4  -1.871417  11.714854\n",
       "3295  BELOGORKA, RS  1979-01-09   0.5  -2.4  -2.016507   2.154694\n",
       "3296  BELOGORKA, RS  1979-01-10   4.1  -1.0  -0.870596   7.580187\n",
       "3297  BELOGORKA, RS  1979-01-11   3.3  -2.1  -2.040491   4.454249\n",
       "3298  BELOGORKA, RS  1979-01-12   0.3  -2.9  -1.835589   0.218350\n",
       "3299  BELOGORKA, RS  1979-01-13   0.0   0.5   1.645375   2.351019\n",
       "3300  BELOGORKA, RS  1979-01-14   0.0   0.5   0.705846   0.628576\n",
       "3301  BELOGORKA, RS  1979-01-15   0.0  -6.0  -7.519544   0.067983\n",
       "3302  BELOGORKA, RS  1979-01-16   0.0  -8.7  -8.280820   0.055064\n",
       "3303  BELOGORKA, RS  1979-01-17   0.0 -10.4  -9.534512   0.019484\n",
       "3304  BELOGORKA, RS  1979-01-18   0.2 -11.7 -13.156419   0.035580\n",
       "3305  BELOGORKA, RS  1979-01-19   0.0 -18.3 -18.026097   0.004871\n",
       "3306  BELOGORKA, RS  1979-01-20   0.0 -12.1 -12.022945   0.313441\n",
       "3307  BELOGORKA, RS  1979-01-21   0.0 -13.4 -10.960534   0.009107\n",
       "3308  BELOGORKA, RS  1979-01-22   0.0 -14.2 -12.615147   0.023296\n",
       "3309  BELOGORKA, RS  1979-01-23   0.3 -14.0 -13.787707   0.413827\n",
       "3310  BELOGORKA, RS  1979-01-24   0.5 -15.4 -14.594286   1.879375\n",
       "3311  BELOGORKA, RS  1979-01-25   8.2 -10.2  -9.378170   7.440409\n",
       "3312  BELOGORKA, RS  1979-01-26   0.2  -5.4  -4.257103   0.428228\n",
       "3313  BELOGORKA, RS  1979-01-27   1.3  -4.6  -4.463190   0.433099\n",
       "3314  BELOGORKA, RS  1979-01-28   0.6  -5.9  -5.939845   0.728962\n",
       "3315  BELOGORKA, RS  1979-01-29   0.0 -14.3 -15.049986   0.033038\n",
       "3316  BELOGORKA, RS  1979-01-30   0.2 -12.0 -14.043538   0.039392"
      ]
     },
     "execution_count": 101,
     "metadata": {},
     "output_type": "execute_result"
    }
   ],
   "source": [
    "test"
   ]
  },
  {
   "cell_type": "code",
   "execution_count": 102,
   "metadata": {},
   "outputs": [
    {
     "data": {
      "text/plain": [
       "<matplotlib.axes._subplots.AxesSubplot at 0x1ba280e3438>"
      ]
     },
     "execution_count": 102,
     "metadata": {},
     "output_type": "execute_result"
    },
    {
     "data": {
      "image/png": "[encoded data removed]",
      "text/plain": [
       "<Figure size 432x288 with 1 Axes>"
      ]
     },
     "metadata": {
      "needs_background": "light"
     },
     "output_type": "display_data"
    }
   ],
   "source": [
    "ax = plt.gca()\n",
    "\n",
    "test.plot(x = 'DATE', y = 'TAVG', color = 'red', ax = ax)\n",
    "test.plot(x = 'DATE', y = 't2m', ax = ax)"
   ]
  },
  {
   "cell_type": "code",
   "execution_count": 103,
   "metadata": {},
   "outputs": [
    {
     "data": {
      "text/plain": [
       "<matplotlib.axes._subplots.AxesSubplot at 0x1ba2812a978>"
      ]
     },
     "execution_count": 103,
     "metadata": {},
     "output_type": "execute_result"
    },
    {
     "data": {
      "image/png": "[encoded data removed]",
      "text/plain": [
       "<Figure size 432x288 with 1 Axes>"
      ]
     },
     "metadata": {
      "needs_background": "light"
     },
     "output_type": "display_data"
    }
   ],
   "source": [
    "ax = plt.gca()\n",
    "\n",
    "test.plot(x = 'DATE', y = 'PRCP', color = 'red', ax = ax)\n",
    "test.plot(x = 'DATE', y = 'tp', ax = ax)"
   ]
  },
  {
   "cell_type": "code",
   "execution_count": 98,
   "metadata": {},
   "outputs": [
    {
     "data": {
      "text/plain": [
       "masked_array(data=[ 2.66847365e-06,  5.92986534e-07,  8.47127814e-07,\n",
       "                    4.13869065e-04,  1.07561060e-03,  9.60061032e-04,\n",
       "                    2.55581404e-04,  2.89720961e-05,  4.81385931e-04,\n",
       "                    2.24490485e-06,  4.70160389e-06,  3.60032501e-06,\n",
       "                    1.21140579e-05,  2.70491026e-04,  2.00564061e-03,\n",
       "                    3.37330182e-04,  1.69426541e-06,  4.29244612e-04,\n",
       "                    1.23724437e-04,  1.39231299e-03,  8.79244105e-04,\n",
       "                    1.16057753e-05,  9.74207261e-06,  3.39278511e-05,\n",
       "                    1.45622944e-04,  3.24580762e-04,  7.14560467e-05,\n",
       "                    5.42591535e-05,  1.35118349e-05,  8.47039742e-08,\n",
       "                    6.73473413e-06,  4.27803509e-06,  3.89682317e-06,\n",
       "                   -9.78575467e-12,  6.26880845e-06,  8.47127814e-07,\n",
       "                   -9.78575467e-12,  9.74198454e-07,  1.09280652e-05,\n",
       "                    5.17600976e-05,  1.82133605e-06, -9.78575467e-12,\n",
       "                    5.92986534e-07,  4.06625069e-06,  7.37009614e-05,\n",
       "                    9.06436253e-06,  8.27653337e-05,  2.93109600e-04,\n",
       "                    8.02027513e-04,  6.86054375e-04,  7.62847311e-05,\n",
       "                    9.36086069e-06,  3.76976134e-05,  4.89221866e-05,\n",
       "                    8.85258694e-05,  5.72664919e-05,  4.32039197e-06,\n",
       "                    2.28726173e-06,  7.41244421e-06,  4.65915894e-07],\n",
       "             mask=False,\n",
       "       fill_value=1e+20)"
      ]
     },
     "execution_count": 98,
     "metadata": {},
     "output_type": "execute_result"
    }
   ],
   "source": [
    "tp"
   ]
  },
  {
   "cell_type": "code",
   "execution_count": 87,
   "metadata": {},
   "outputs": [
    {
     "data": {
      "text/plain": [
       "{'longitude': <class 'netCDF4._netCDF4.Variable'>\n",
       " >f4 longitude(longitude)\n",
       "     units: degrees_east\n",
       "     long_name: longitude\n",
       " unlimited dimensions: \n",
       " current shape = (41,)\n",
       " filling on, default _FillValue of 9.969209968386869e+36 used,\n",
       " 'latitude': <class 'netCDF4._netCDF4.Variable'>\n",
       " >f4 latitude(latitude)\n",
       "     units: degrees_north\n",
       "     long_name: latitude\n",
       " unlimited dimensions: \n",
       " current shape = (25,)\n",
       " filling on, default _FillValue of 9.969209968386869e+36 used,\n",
       " 'time': <class 'netCDF4._netCDF4.Variable'>\n",
       " >i4 time(time)\n",
       "     units: hours since 1900-01-01 00:00:00.0\n",
       "     long_name: time\n",
       "     calendar: gregorian\n",
       " unlimited dimensions: time\n",
       " current shape = (60,)\n",
       " filling on, default _FillValue of -2147483647 used,\n",
       " 't2m': <class 'netCDF4._netCDF4.Variable'>\n",
       " >i2 t2m(time, latitude, longitude)\n",
       "     scale_factor: 0.0005922020486696588\n",
       "     add_offset: 257.7435088306163\n",
       "     _FillValue: -32767\n",
       "     missing_value: -32767\n",
       "     units: K\n",
       "     long_name: 2 metre temperature\n",
       " unlimited dimensions: time\n",
       " current shape = (60, 25, 41)\n",
       " filling on,\n",
       " 'tp': <class 'netCDF4._netCDF4.Variable'>\n",
       " >i2 tp(time, latitude, longitude)\n",
       "     scale_factor: 4.235687998129953e-08\n",
       "     add_offset: 0.0013878655196815058\n",
       "     _FillValue: -32767\n",
       "     missing_value: -32767\n",
       "     units: m\n",
       "     long_name: Total precipitation\n",
       " unlimited dimensions: time\n",
       " current shape = (60, 25, 41)\n",
       " filling on}"
      ]
     },
     "execution_count": 87,
     "metadata": {},
     "output_type": "execute_result"
    }
   ],
   "source": [
    "fh.variables"
   ]
  }
 ],
 "metadata": {
  "kernelspec": {
   "display_name": "Python 3",
   "language": "python",
   "name": "python3"
  },
  "language_info": {
   "codemirror_mode": {
    "name": "ipython",
    "version": 3
   },
   "file_extension": ".py",
   "mimetype": "text/x-python",
   "name": "python",
   "nbconvert_exporter": "python",
   "pygments_lexer": "ipython3",
   "version": "3.7.3"
  }
 },
 "nbformat": 4,
 "nbformat_minor": 4
}
